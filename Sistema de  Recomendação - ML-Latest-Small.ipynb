{
 "cells": [
  {
   "cell_type": "markdown",
   "metadata": {
    "deletable": true,
    "editable": true
   },
   "source": [
    "# Exploração dos Dados"
   ]
  },
  {
   "cell_type": "markdown",
   "metadata": {
    "deletable": true,
    "editable": true
   },
   "source": [
    "## Carregando o dataset\n",
    "\n",
    "http://files.grouplens.org/datasets/movielens/ml-latest-small.zip"
   ]
  },
  {
   "cell_type": "code",
   "execution_count": 1,
   "metadata": {
    "collapsed": false,
    "deletable": true,
    "editable": true
   },
   "outputs": [],
   "source": [
    "# Pacotes importantes para este projeto\n",
    "import numpy as np\n",
    "import pandas as pd\n",
    "from time import time\n",
    "import seaborn as sns\n",
    "from pandas import Series\n",
    "import matplotlib.pyplot as plt\n",
    "%matplotlib inline "
   ]
  },
  {
   "cell_type": "code",
   "execution_count": 2,
   "metadata": {
    "collapsed": false,
    "deletable": true,
    "editable": true,
    "scrolled": true
   },
   "outputs": [],
   "source": [
    "dfMovies = pd.read_csv(\"./ml-latest-small/movies.csv\")\n",
    "dfRatings = pd.read_csv(\"./ml-latest-small/ratings.csv\")\n",
    "dfTags = pd.read_csv(\"./ml-latest-small/tags.csv\")\n",
    "dfLinks = pd.read_csv(\"./ml-latest-small/links.csv\")\n",
    "\n",
    "# print(\"Movies:\")\n",
    "# print(dfMovies.head())\n",
    "# print(\"Ratings:\")\n",
    "# print(dfRatings.head())\n",
    "# print(\"Tags:\")\n",
    "# print(dfTags.head())\n",
    "# print(\"Links:\")\n",
    "# print(dfLinks.head())\n",
    "\n",
    "# Faz o merge do dataset utilizando os id's dos filmes como chave\n",
    "dfMoviesRatings = pd.merge(dfMovies, dfRatings, on=['movieId'])"
   ]
  },
  {
   "cell_type": "markdown",
   "metadata": {
    "deletable": true,
    "editable": true
   },
   "source": [
    "## Pré-processando os dados"
   ]
  },
  {
   "cell_type": "code",
   "execution_count": 3,
   "metadata": {
    "collapsed": false,
    "scrolled": true
   },
   "outputs": [
    {
     "name": "stdout",
     "output_type": "stream",
     "text": [
      "   movieId                                       genres  userId  rating\n",
      "0        1  Adventure|Animation|Children|Comedy|Fantasy       7     3.0\n",
      "1        1  Adventure|Animation|Children|Comedy|Fantasy       9     4.0\n",
      "2        1  Adventure|Animation|Children|Comedy|Fantasy      13     5.0\n",
      "3        1  Adventure|Animation|Children|Comedy|Fantasy      15     2.0\n",
      "4        1  Adventure|Animation|Children|Comedy|Fantasy      19     3.0\n"
     ]
    }
   ],
   "source": [
    "# Separando os filmes e os títulos\n",
    "moviesTitles = dfMoviesRatings[['movieId', 'title']]\n",
    "moviesTitles = moviesTitles.set_index('movieId')\n",
    "moviesTitles = moviesTitles.drop_duplicates()\n",
    "moviesTitles.head()\n",
    "\n",
    "# Remove colunas que não serão utilizadas no treinamento do sistema de recomendação\n",
    "dfMoviesRatings = dfMoviesRatings.drop(['timestamp', 'title'], 1)\n",
    "print(dfMoviesRatings.head())"
   ]
  },
  {
   "cell_type": "markdown",
   "metadata": {
    "deletable": true,
    "editable": true
   },
   "source": [
    "### Dados nulos ou faltantes"
   ]
  },
  {
   "cell_type": "code",
   "execution_count": 4,
   "metadata": {
    "collapsed": false,
    "deletable": true,
    "editable": true
   },
   "outputs": [
    {
     "name": "stdout",
     "output_type": "stream",
     "text": [
      "Movies - Null values: False\n",
      "Ratings - Null values: False\n",
      "Tags - Null values: False\n",
      "Links - Null values: True\n"
     ]
    }
   ],
   "source": [
    "print(\"Movies - Null values: {}\".format(dfMovies.isnull().any().any()))\n",
    "print(\"Ratings - Null values: {}\".format(dfRatings.isnull().any().any()))\n",
    "print(\"Tags - Null values: {}\".format(dfTags.isnull().any().any()))\n",
    "print(\"Links - Null values: {}\".format(dfLinks.isnull().any().any()))"
   ]
  },
  {
   "cell_type": "markdown",
   "metadata": {
    "deletable": true,
    "editable": true
   },
   "source": [
    "### Análise e processamento das categorias\n",
    "\n",
    "    Nesta etapa estou verificando quais as categorias que são encontradas no dataset:\n",
    "    - categorias repetidas;\n",
    "    - itens que não correspondem às categorias;"
   ]
  },
  {
   "cell_type": "code",
   "execution_count": 5,
   "metadata": {
    "collapsed": false
   },
   "outputs": [
    {
     "data": {
      "text/plain": [
       "array(['Adventure', 'Animation', 'Children', 'Comedy', 'Fantasy', None,\n",
       "       'Romance', 'Drama', 'Action', 'Crime', 'Thriller', 'Horror',\n",
       "       'Mystery', 'Sci-Fi', 'Documentary', 'IMAX', 'War', 'Musical',\n",
       "       'Western', 'Film-Noir', '(no genres listed)'], dtype=object)"
      ]
     },
     "execution_count": 5,
     "metadata": {},
     "output_type": "execute_result"
    }
   ],
   "source": [
    "# Encontra todas as categorias presentes no dataset\n",
    "dfCategories = dfMoviesRatings.genres.str.split(pat=\"|\", expand=True)\n",
    "dfCategories = Series(dfCategories.values.ravel()).unique()\n",
    "dfCategories"
   ]
  },
  {
   "cell_type": "code",
   "execution_count": 6,
   "metadata": {
    "collapsed": false
   },
   "outputs": [
    {
     "data": {
      "text/html": [
       "<div>\n",
       "<table border=\"1\" class=\"dataframe\">\n",
       "  <thead>\n",
       "    <tr style=\"text-align: right;\">\n",
       "      <th></th>\n",
       "      <th>movieId</th>\n",
       "      <th>genres</th>\n",
       "      <th>userId</th>\n",
       "      <th>rating</th>\n",
       "      <th>Adventure</th>\n",
       "      <th>Animation</th>\n",
       "      <th>Children</th>\n",
       "      <th>Comedy</th>\n",
       "      <th>Fantasy</th>\n",
       "      <th>None</th>\n",
       "      <th>...</th>\n",
       "      <th>Horror</th>\n",
       "      <th>Mystery</th>\n",
       "      <th>Sci-Fi</th>\n",
       "      <th>Documentary</th>\n",
       "      <th>IMAX</th>\n",
       "      <th>War</th>\n",
       "      <th>Musical</th>\n",
       "      <th>Western</th>\n",
       "      <th>Film-Noir</th>\n",
       "      <th>(no genres listed)</th>\n",
       "    </tr>\n",
       "  </thead>\n",
       "  <tbody>\n",
       "    <tr>\n",
       "      <th>0</th>\n",
       "      <td>1</td>\n",
       "      <td>Adventure|Animation|Children|Comedy|Fantasy</td>\n",
       "      <td>7</td>\n",
       "      <td>3.0</td>\n",
       "      <td>0</td>\n",
       "      <td>0</td>\n",
       "      <td>0</td>\n",
       "      <td>0</td>\n",
       "      <td>0</td>\n",
       "      <td>0</td>\n",
       "      <td>...</td>\n",
       "      <td>0</td>\n",
       "      <td>0</td>\n",
       "      <td>0</td>\n",
       "      <td>0</td>\n",
       "      <td>0</td>\n",
       "      <td>0</td>\n",
       "      <td>0</td>\n",
       "      <td>0</td>\n",
       "      <td>0</td>\n",
       "      <td>0</td>\n",
       "    </tr>\n",
       "    <tr>\n",
       "      <th>1</th>\n",
       "      <td>1</td>\n",
       "      <td>Adventure|Animation|Children|Comedy|Fantasy</td>\n",
       "      <td>9</td>\n",
       "      <td>4.0</td>\n",
       "      <td>0</td>\n",
       "      <td>0</td>\n",
       "      <td>0</td>\n",
       "      <td>0</td>\n",
       "      <td>0</td>\n",
       "      <td>0</td>\n",
       "      <td>...</td>\n",
       "      <td>0</td>\n",
       "      <td>0</td>\n",
       "      <td>0</td>\n",
       "      <td>0</td>\n",
       "      <td>0</td>\n",
       "      <td>0</td>\n",
       "      <td>0</td>\n",
       "      <td>0</td>\n",
       "      <td>0</td>\n",
       "      <td>0</td>\n",
       "    </tr>\n",
       "    <tr>\n",
       "      <th>2</th>\n",
       "      <td>1</td>\n",
       "      <td>Adventure|Animation|Children|Comedy|Fantasy</td>\n",
       "      <td>13</td>\n",
       "      <td>5.0</td>\n",
       "      <td>0</td>\n",
       "      <td>0</td>\n",
       "      <td>0</td>\n",
       "      <td>0</td>\n",
       "      <td>0</td>\n",
       "      <td>0</td>\n",
       "      <td>...</td>\n",
       "      <td>0</td>\n",
       "      <td>0</td>\n",
       "      <td>0</td>\n",
       "      <td>0</td>\n",
       "      <td>0</td>\n",
       "      <td>0</td>\n",
       "      <td>0</td>\n",
       "      <td>0</td>\n",
       "      <td>0</td>\n",
       "      <td>0</td>\n",
       "    </tr>\n",
       "    <tr>\n",
       "      <th>3</th>\n",
       "      <td>1</td>\n",
       "      <td>Adventure|Animation|Children|Comedy|Fantasy</td>\n",
       "      <td>15</td>\n",
       "      <td>2.0</td>\n",
       "      <td>0</td>\n",
       "      <td>0</td>\n",
       "      <td>0</td>\n",
       "      <td>0</td>\n",
       "      <td>0</td>\n",
       "      <td>0</td>\n",
       "      <td>...</td>\n",
       "      <td>0</td>\n",
       "      <td>0</td>\n",
       "      <td>0</td>\n",
       "      <td>0</td>\n",
       "      <td>0</td>\n",
       "      <td>0</td>\n",
       "      <td>0</td>\n",
       "      <td>0</td>\n",
       "      <td>0</td>\n",
       "      <td>0</td>\n",
       "    </tr>\n",
       "    <tr>\n",
       "      <th>4</th>\n",
       "      <td>1</td>\n",
       "      <td>Adventure|Animation|Children|Comedy|Fantasy</td>\n",
       "      <td>19</td>\n",
       "      <td>3.0</td>\n",
       "      <td>0</td>\n",
       "      <td>0</td>\n",
       "      <td>0</td>\n",
       "      <td>0</td>\n",
       "      <td>0</td>\n",
       "      <td>0</td>\n",
       "      <td>...</td>\n",
       "      <td>0</td>\n",
       "      <td>0</td>\n",
       "      <td>0</td>\n",
       "      <td>0</td>\n",
       "      <td>0</td>\n",
       "      <td>0</td>\n",
       "      <td>0</td>\n",
       "      <td>0</td>\n",
       "      <td>0</td>\n",
       "      <td>0</td>\n",
       "    </tr>\n",
       "  </tbody>\n",
       "</table>\n",
       "<p>5 rows × 25 columns</p>\n",
       "</div>"
      ],
      "text/plain": [
       "   movieId                                       genres  userId  rating  \\\n",
       "0        1  Adventure|Animation|Children|Comedy|Fantasy       7     3.0   \n",
       "1        1  Adventure|Animation|Children|Comedy|Fantasy       9     4.0   \n",
       "2        1  Adventure|Animation|Children|Comedy|Fantasy      13     5.0   \n",
       "3        1  Adventure|Animation|Children|Comedy|Fantasy      15     2.0   \n",
       "4        1  Adventure|Animation|Children|Comedy|Fantasy      19     3.0   \n",
       "\n",
       "   Adventure  Animation  Children  Comedy  Fantasy  NaN         ...          \\\n",
       "0          0          0         0       0        0    0         ...           \n",
       "1          0          0         0       0        0    0         ...           \n",
       "2          0          0         0       0        0    0         ...           \n",
       "3          0          0         0       0        0    0         ...           \n",
       "4          0          0         0       0        0    0         ...           \n",
       "\n",
       "   Horror  Mystery  Sci-Fi  Documentary  IMAX  War  Musical  Western  \\\n",
       "0       0        0       0            0     0    0        0        0   \n",
       "1       0        0       0            0     0    0        0        0   \n",
       "2       0        0       0            0     0    0        0        0   \n",
       "3       0        0       0            0     0    0        0        0   \n",
       "4       0        0       0            0     0    0        0        0   \n",
       "\n",
       "   Film-Noir  (no genres listed)  \n",
       "0          0                   0  \n",
       "1          0                   0  \n",
       "2          0                   0  \n",
       "3          0                   0  \n",
       "4          0                   0  \n",
       "\n",
       "[5 rows x 25 columns]"
      ]
     },
     "execution_count": 6,
     "metadata": {},
     "output_type": "execute_result"
    }
   ],
   "source": [
    "# Insere as colunas de cada categoria  \n",
    "for col in dfCategories:\n",
    "    dfMoviesRatings.insert(loc= len(dfMoviesRatings.columns), column=col, value=0)\n",
    "dfMoviesRatings.head()"
   ]
  },
  {
   "cell_type": "code",
   "execution_count": 7,
   "metadata": {
    "collapsed": false,
    "deletable": true,
    "editable": true,
    "scrolled": true
   },
   "outputs": [
    {
     "data": {
      "text/html": [
       "<div>\n",
       "<table border=\"1\" class=\"dataframe\">\n",
       "  <thead>\n",
       "    <tr style=\"text-align: right;\">\n",
       "      <th></th>\n",
       "      <th>movieId</th>\n",
       "      <th>genres</th>\n",
       "      <th>userId</th>\n",
       "      <th>rating</th>\n",
       "      <th>Adventure</th>\n",
       "      <th>Animation</th>\n",
       "      <th>Children</th>\n",
       "      <th>Comedy</th>\n",
       "      <th>Fantasy</th>\n",
       "      <th>None</th>\n",
       "      <th>...</th>\n",
       "      <th>Horror</th>\n",
       "      <th>Mystery</th>\n",
       "      <th>Sci-Fi</th>\n",
       "      <th>Documentary</th>\n",
       "      <th>IMAX</th>\n",
       "      <th>War</th>\n",
       "      <th>Musical</th>\n",
       "      <th>Western</th>\n",
       "      <th>Film-Noir</th>\n",
       "      <th>(no genres listed)</th>\n",
       "    </tr>\n",
       "  </thead>\n",
       "  <tbody>\n",
       "    <tr>\n",
       "      <th>0</th>\n",
       "      <td>1</td>\n",
       "      <td>Adventure|Animation|Children|Comedy|Fantasy</td>\n",
       "      <td>7</td>\n",
       "      <td>3.0</td>\n",
       "      <td>1</td>\n",
       "      <td>1</td>\n",
       "      <td>1</td>\n",
       "      <td>1</td>\n",
       "      <td>1</td>\n",
       "      <td>0</td>\n",
       "      <td>...</td>\n",
       "      <td>0</td>\n",
       "      <td>0</td>\n",
       "      <td>0</td>\n",
       "      <td>0</td>\n",
       "      <td>0</td>\n",
       "      <td>0</td>\n",
       "      <td>0</td>\n",
       "      <td>0</td>\n",
       "      <td>0</td>\n",
       "      <td>0</td>\n",
       "    </tr>\n",
       "    <tr>\n",
       "      <th>1</th>\n",
       "      <td>1</td>\n",
       "      <td>Adventure|Animation|Children|Comedy|Fantasy</td>\n",
       "      <td>9</td>\n",
       "      <td>4.0</td>\n",
       "      <td>1</td>\n",
       "      <td>1</td>\n",
       "      <td>1</td>\n",
       "      <td>1</td>\n",
       "      <td>1</td>\n",
       "      <td>0</td>\n",
       "      <td>...</td>\n",
       "      <td>0</td>\n",
       "      <td>0</td>\n",
       "      <td>0</td>\n",
       "      <td>0</td>\n",
       "      <td>0</td>\n",
       "      <td>0</td>\n",
       "      <td>0</td>\n",
       "      <td>0</td>\n",
       "      <td>0</td>\n",
       "      <td>0</td>\n",
       "    </tr>\n",
       "    <tr>\n",
       "      <th>2</th>\n",
       "      <td>1</td>\n",
       "      <td>Adventure|Animation|Children|Comedy|Fantasy</td>\n",
       "      <td>13</td>\n",
       "      <td>5.0</td>\n",
       "      <td>1</td>\n",
       "      <td>1</td>\n",
       "      <td>1</td>\n",
       "      <td>1</td>\n",
       "      <td>1</td>\n",
       "      <td>0</td>\n",
       "      <td>...</td>\n",
       "      <td>0</td>\n",
       "      <td>0</td>\n",
       "      <td>0</td>\n",
       "      <td>0</td>\n",
       "      <td>0</td>\n",
       "      <td>0</td>\n",
       "      <td>0</td>\n",
       "      <td>0</td>\n",
       "      <td>0</td>\n",
       "      <td>0</td>\n",
       "    </tr>\n",
       "    <tr>\n",
       "      <th>3</th>\n",
       "      <td>1</td>\n",
       "      <td>Adventure|Animation|Children|Comedy|Fantasy</td>\n",
       "      <td>15</td>\n",
       "      <td>2.0</td>\n",
       "      <td>1</td>\n",
       "      <td>1</td>\n",
       "      <td>1</td>\n",
       "      <td>1</td>\n",
       "      <td>1</td>\n",
       "      <td>0</td>\n",
       "      <td>...</td>\n",
       "      <td>0</td>\n",
       "      <td>0</td>\n",
       "      <td>0</td>\n",
       "      <td>0</td>\n",
       "      <td>0</td>\n",
       "      <td>0</td>\n",
       "      <td>0</td>\n",
       "      <td>0</td>\n",
       "      <td>0</td>\n",
       "      <td>0</td>\n",
       "    </tr>\n",
       "    <tr>\n",
       "      <th>4</th>\n",
       "      <td>1</td>\n",
       "      <td>Adventure|Animation|Children|Comedy|Fantasy</td>\n",
       "      <td>19</td>\n",
       "      <td>3.0</td>\n",
       "      <td>1</td>\n",
       "      <td>1</td>\n",
       "      <td>1</td>\n",
       "      <td>1</td>\n",
       "      <td>1</td>\n",
       "      <td>0</td>\n",
       "      <td>...</td>\n",
       "      <td>0</td>\n",
       "      <td>0</td>\n",
       "      <td>0</td>\n",
       "      <td>0</td>\n",
       "      <td>0</td>\n",
       "      <td>0</td>\n",
       "      <td>0</td>\n",
       "      <td>0</td>\n",
       "      <td>0</td>\n",
       "      <td>0</td>\n",
       "    </tr>\n",
       "  </tbody>\n",
       "</table>\n",
       "<p>5 rows × 25 columns</p>\n",
       "</div>"
      ],
      "text/plain": [
       "   movieId                                       genres  userId  rating  \\\n",
       "0        1  Adventure|Animation|Children|Comedy|Fantasy       7     3.0   \n",
       "1        1  Adventure|Animation|Children|Comedy|Fantasy       9     4.0   \n",
       "2        1  Adventure|Animation|Children|Comedy|Fantasy      13     5.0   \n",
       "3        1  Adventure|Animation|Children|Comedy|Fantasy      15     2.0   \n",
       "4        1  Adventure|Animation|Children|Comedy|Fantasy      19     3.0   \n",
       "\n",
       "   Adventure  Animation  Children  Comedy  Fantasy  NaN         ...          \\\n",
       "0          1          1         1       1        1    0         ...           \n",
       "1          1          1         1       1        1    0         ...           \n",
       "2          1          1         1       1        1    0         ...           \n",
       "3          1          1         1       1        1    0         ...           \n",
       "4          1          1         1       1        1    0         ...           \n",
       "\n",
       "   Horror  Mystery  Sci-Fi  Documentary  IMAX  War  Musical  Western  \\\n",
       "0       0        0       0            0     0    0        0        0   \n",
       "1       0        0       0            0     0    0        0        0   \n",
       "2       0        0       0            0     0    0        0        0   \n",
       "3       0        0       0            0     0    0        0        0   \n",
       "4       0        0       0            0     0    0        0        0   \n",
       "\n",
       "   Film-Noir  (no genres listed)  \n",
       "0          0                   0  \n",
       "1          0                   0  \n",
       "2          0                   0  \n",
       "3          0                   0  \n",
       "4          0                   0  \n",
       "\n",
       "[5 rows x 25 columns]"
      ]
     },
     "execution_count": 7,
     "metadata": {},
     "output_type": "execute_result"
    }
   ],
   "source": [
    "# Transforma cada categoria em uma feature\n",
    "count = 0\n",
    "for i, row in dfMoviesRatings.iterrows():\n",
    "    dfMoviesRatings.set_value(col=row[1].split(sep=\"|\"), index=i, value=1)\n",
    "\n",
    "dfMoviesRatings.head()"
   ]
  },
  {
   "cell_type": "markdown",
   "metadata": {},
   "source": [
    "Nesta célula estou removendo as colunas \"None\" e \"(no genres listed)\" que não correspondem às categorias de filmes. "
   ]
  },
  {
   "cell_type": "code",
   "execution_count": 8,
   "metadata": {
    "collapsed": false
   },
   "outputs": [],
   "source": [
    "# Remove as categorias: None, '(no genres listed)'\n",
    "dfMoviesRatings = dfMoviesRatings.drop([None, '(no genres listed)','genres'], 1)"
   ]
  },
  {
   "cell_type": "markdown",
   "metadata": {
    "collapsed": false,
    "deletable": true,
    "editable": true
   },
   "source": [
    "### Tags\n",
    "\n",
    "    - Avaliar os tags mais comuns;\n",
    "    - Existe relação das tags com as avaliações? Palavras positivas e negativas?"
   ]
  },
  {
   "cell_type": "markdown",
   "metadata": {
    "collapsed": true,
    "deletable": true,
    "editable": true
   },
   "source": [
    "### Análise e processamento dos nomes dos filmes\n",
    "\n",
    "    - Avaliar se existem nomes de um mesmo filme com escritas diferentes;\n",
    "    - "
   ]
  },
  {
   "cell_type": "markdown",
   "metadata": {
    "deletable": true,
    "editable": true
   },
   "source": [
    "### Análise e processamentos dos ratings\n",
    "\n",
    "    - Normalizar os valores;"
   ]
  },
  {
   "cell_type": "markdown",
   "metadata": {},
   "source": [
    "#### Verificar se o número de ratings é uniforme entre os filmes\n",
    "\n",
    "TODO: Detalhar observações"
   ]
  },
  {
   "cell_type": "code",
   "execution_count": 9,
   "metadata": {
    "collapsed": false,
    "deletable": true,
    "editable": true,
    "scrolled": false
   },
   "outputs": [
    {
     "name": "stdout",
     "output_type": "stream",
     "text": [
      "Algumas estatísticas:\n"
     ]
    },
    {
     "data": {
      "text/plain": [
       "count    9066.000000\n",
       "mean       11.030664\n",
       "std        24.050800\n",
       "min         1.000000\n",
       "25%         1.000000\n",
       "50%         3.000000\n",
       "75%         9.000000\n",
       "max       341.000000\n",
       "dtype: float64"
      ]
     },
     "execution_count": 9,
     "metadata": {},
     "output_type": "execute_result"
    },
    {
     "data": {
      "image/png": "[encoded data removed]",
      "text/plain": [
       "<matplotlib.figure.Figure at 0x7f3b2b0c0e80>"
      ]
     },
     "metadata": {},
     "output_type": "display_data"
    }
   ],
   "source": [
    "# Verifica o número de avaliações por filme\n",
    "number_of_ratings_per_movie = pd.value_counts(dfMoviesRatings['movieId'].values, sort=False)\n",
    "\n",
    "# Apresenta o gráfico com a distribuição o número de avaliações por filme\n",
    "sns.distplot(pd.Series(number_of_ratings_per_movie, name=\"\"))\n",
    "\n",
    "# Algumas estatísticas\n",
    "print('Algumas estatísticas:')\n",
    "number_of_ratings_per_movie.describe()"
   ]
  },
  {
   "cell_type": "code",
   "execution_count": 10,
   "metadata": {
    "collapsed": false,
    "scrolled": false
   },
   "outputs": [
    {
     "name": "stdout",
     "output_type": "stream",
     "text": [
      "Algumas estatísticas:\n"
     ]
    },
    {
     "data": {
      "text/plain": [
       "count    6003.000000\n",
       "mean       16.148759\n",
       "std        28.215085\n",
       "min         2.000000\n",
       "25%         3.000000\n",
       "50%         6.000000\n",
       "75%        16.000000\n",
       "max       341.000000\n",
       "Name: 0, dtype: float64"
      ]
     },
     "execution_count": 10,
     "metadata": {},
     "output_type": "execute_result"
    },
    {
     "data": {
      "image/png": "[encoded data removed]",
      "text/plain": [
       "<matplotlib.figure.Figure at 0x7f3b2a8c0550>"
      ]
     },
     "metadata": {},
     "output_type": "display_data"
    }
   ],
   "source": [
    "# Retirando 10% dos filmes que apresentam muito menos ratings que os demais 90%\n",
    "new_data = number_of_ratings_per_movie.to_frame()[number_of_ratings_per_movie > \n",
    "                                                  number_of_ratings_per_movie.quantile(0.10)]\n",
    "\n",
    "sns.distplot(pd.Series(new_data[0], name=\"\"))\n",
    "\n",
    "# Algumas estatísticas\n",
    "print('Algumas estatísticas:')\n",
    "new_data[0].describe()\n"
   ]
  },
  {
   "cell_type": "markdown",
   "metadata": {},
   "source": [
    "A seguir são removidos os filmes que apresentam um número de ratings muito menor que os demais. Isso se deve ao fato de que as avaliações destes filmes são pouco expressivas diante dos demais filmes. O método de machine learning teria dificuldade para generalizar tendo tão poucas amostras."
   ]
  },
  {
   "cell_type": "code",
   "execution_count": 11,
   "metadata": {
    "collapsed": false,
    "scrolled": true
   },
   "outputs": [
    {
     "data": {
      "text/html": [
       "<div>\n",
       "<table border=\"1\" class=\"dataframe\">\n",
       "  <thead>\n",
       "    <tr style=\"text-align: right;\">\n",
       "      <th></th>\n",
       "      <th>movieId</th>\n",
       "      <th>userId</th>\n",
       "      <th>rating</th>\n",
       "      <th>Adventure</th>\n",
       "      <th>Animation</th>\n",
       "      <th>Children</th>\n",
       "      <th>Comedy</th>\n",
       "      <th>Fantasy</th>\n",
       "      <th>Romance</th>\n",
       "      <th>Drama</th>\n",
       "      <th>...</th>\n",
       "      <th>Horror</th>\n",
       "      <th>Mystery</th>\n",
       "      <th>Sci-Fi</th>\n",
       "      <th>Documentary</th>\n",
       "      <th>IMAX</th>\n",
       "      <th>War</th>\n",
       "      <th>Musical</th>\n",
       "      <th>Western</th>\n",
       "      <th>Film-Noir</th>\n",
       "      <th>NumberRatings</th>\n",
       "    </tr>\n",
       "  </thead>\n",
       "  <tbody>\n",
       "    <tr>\n",
       "      <th>0</th>\n",
       "      <td>1</td>\n",
       "      <td>7</td>\n",
       "      <td>3.0</td>\n",
       "      <td>1</td>\n",
       "      <td>1</td>\n",
       "      <td>1</td>\n",
       "      <td>1</td>\n",
       "      <td>1</td>\n",
       "      <td>0</td>\n",
       "      <td>0</td>\n",
       "      <td>...</td>\n",
       "      <td>0</td>\n",
       "      <td>0</td>\n",
       "      <td>0</td>\n",
       "      <td>0</td>\n",
       "      <td>0</td>\n",
       "      <td>0</td>\n",
       "      <td>0</td>\n",
       "      <td>0</td>\n",
       "      <td>0</td>\n",
       "      <td>247</td>\n",
       "    </tr>\n",
       "    <tr>\n",
       "      <th>1</th>\n",
       "      <td>1</td>\n",
       "      <td>9</td>\n",
       "      <td>4.0</td>\n",
       "      <td>1</td>\n",
       "      <td>1</td>\n",
       "      <td>1</td>\n",
       "      <td>1</td>\n",
       "      <td>1</td>\n",
       "      <td>0</td>\n",
       "      <td>0</td>\n",
       "      <td>...</td>\n",
       "      <td>0</td>\n",
       "      <td>0</td>\n",
       "      <td>0</td>\n",
       "      <td>0</td>\n",
       "      <td>0</td>\n",
       "      <td>0</td>\n",
       "      <td>0</td>\n",
       "      <td>0</td>\n",
       "      <td>0</td>\n",
       "      <td>247</td>\n",
       "    </tr>\n",
       "    <tr>\n",
       "      <th>2</th>\n",
       "      <td>1</td>\n",
       "      <td>13</td>\n",
       "      <td>5.0</td>\n",
       "      <td>1</td>\n",
       "      <td>1</td>\n",
       "      <td>1</td>\n",
       "      <td>1</td>\n",
       "      <td>1</td>\n",
       "      <td>0</td>\n",
       "      <td>0</td>\n",
       "      <td>...</td>\n",
       "      <td>0</td>\n",
       "      <td>0</td>\n",
       "      <td>0</td>\n",
       "      <td>0</td>\n",
       "      <td>0</td>\n",
       "      <td>0</td>\n",
       "      <td>0</td>\n",
       "      <td>0</td>\n",
       "      <td>0</td>\n",
       "      <td>247</td>\n",
       "    </tr>\n",
       "    <tr>\n",
       "      <th>3</th>\n",
       "      <td>1</td>\n",
       "      <td>15</td>\n",
       "      <td>2.0</td>\n",
       "      <td>1</td>\n",
       "      <td>1</td>\n",
       "      <td>1</td>\n",
       "      <td>1</td>\n",
       "      <td>1</td>\n",
       "      <td>0</td>\n",
       "      <td>0</td>\n",
       "      <td>...</td>\n",
       "      <td>0</td>\n",
       "      <td>0</td>\n",
       "      <td>0</td>\n",
       "      <td>0</td>\n",
       "      <td>0</td>\n",
       "      <td>0</td>\n",
       "      <td>0</td>\n",
       "      <td>0</td>\n",
       "      <td>0</td>\n",
       "      <td>247</td>\n",
       "    </tr>\n",
       "    <tr>\n",
       "      <th>4</th>\n",
       "      <td>1</td>\n",
       "      <td>19</td>\n",
       "      <td>3.0</td>\n",
       "      <td>1</td>\n",
       "      <td>1</td>\n",
       "      <td>1</td>\n",
       "      <td>1</td>\n",
       "      <td>1</td>\n",
       "      <td>0</td>\n",
       "      <td>0</td>\n",
       "      <td>...</td>\n",
       "      <td>0</td>\n",
       "      <td>0</td>\n",
       "      <td>0</td>\n",
       "      <td>0</td>\n",
       "      <td>0</td>\n",
       "      <td>0</td>\n",
       "      <td>0</td>\n",
       "      <td>0</td>\n",
       "      <td>0</td>\n",
       "      <td>247</td>\n",
       "    </tr>\n",
       "  </tbody>\n",
       "</table>\n",
       "<p>5 rows × 23 columns</p>\n",
       "</div>"
      ],
      "text/plain": [
       "   movieId  userId  rating  Adventure  Animation  Children  Comedy  Fantasy  \\\n",
       "0        1       7     3.0          1          1         1       1        1   \n",
       "1        1       9     4.0          1          1         1       1        1   \n",
       "2        1      13     5.0          1          1         1       1        1   \n",
       "3        1      15     2.0          1          1         1       1        1   \n",
       "4        1      19     3.0          1          1         1       1        1   \n",
       "\n",
       "   Romance  Drama      ...        Horror  Mystery  Sci-Fi  Documentary  IMAX  \\\n",
       "0        0      0      ...             0        0       0            0     0   \n",
       "1        0      0      ...             0        0       0            0     0   \n",
       "2        0      0      ...             0        0       0            0     0   \n",
       "3        0      0      ...             0        0       0            0     0   \n",
       "4        0      0      ...             0        0       0            0     0   \n",
       "\n",
       "   War  Musical  Western  Film-Noir  NumberRatings  \n",
       "0    0        0        0          0            247  \n",
       "1    0        0        0          0            247  \n",
       "2    0        0        0          0            247  \n",
       "3    0        0        0          0            247  \n",
       "4    0        0        0          0            247  \n",
       "\n",
       "[5 rows x 23 columns]"
      ]
     },
     "execution_count": 11,
     "metadata": {},
     "output_type": "execute_result"
    }
   ],
   "source": [
    "# Obtendo o dataset final retirando 10% dos filmes que apresentam muito menos ratings que os demais 80%\n",
    "new_data[\"movieId\"] = new_data.index\n",
    "dfMoviesRatingsFinal = pd.merge(dfMoviesRatings, new_data, how='inner', on=['movieId'])\n",
    "dfMoviesRatingsFinal = dfMoviesRatingsFinal.rename(columns={0: 'NumberRatings'})\n",
    "dfMoviesRatingsFinal.head()"
   ]
  },
  {
   "cell_type": "markdown",
   "metadata": {
    "deletable": true,
    "editable": true
   },
   "source": [
    "## Conclusões"
   ]
  },
  {
   "cell_type": "markdown",
   "metadata": {},
   "source": [
    "### Existe alguma relação entre a categoria do filme e a forma que ele é avaliado?\n",
    "\n",
    "Para avaliar se existe relação entre o rating e as categorias de filmes foi calculada a matriz de correlação, através da função ```corr()``` do pacote Pandas (linha 4). Além disso, foram apresentadas somente as correlações associadas ao rating (linha 7). Foi utilizada uma tabela de cores para facilitar a visualização dos dados. As cores mais próximas do vermelho ou azul apresentam correlações positivas ou negativas, respectivamente. Já as cores mais próximas do cinza apresentam baixa correlação.\n",
    "\n",
    "O gráfico abaixo mostra que somente algumas categorias estão relacionadas com os ratings como, por exemplo, comédia, drama e ação. "
   ]
  },
  {
   "cell_type": "code",
   "execution_count": 12,
   "metadata": {
    "collapsed": false
   },
   "outputs": [
    {
     "data": {
      "text/plain": [
       "<matplotlib.axes._subplots.AxesSubplot at 0x7f3b2a98a320>"
      ]
     },
     "execution_count": 12,
     "metadata": {},
     "output_type": "execute_result"
    },
    {
     "data": {
      "image/png": "[encoded data removed]",
      "text/plain": [
       "<matplotlib.figure.Figure at 0x7f3b2a889c18>"
      ]
     },
     "metadata": {},
     "output_type": "display_data"
    }
   ],
   "source": [
    "sns.set(style=\"white\")\n",
    "\n",
    "# Calcula a matriz de correlação das categorias\n",
    "corr = dfMoviesRatingsFinal.drop(['movieId', 'NumberRatings','userId'],1).corr()\n",
    "\n",
    "# Gera uma máscara para a parte superior do triângulo\n",
    "corrRating = corr[['rating']]\n",
    "mask = np.zeros_like(corrRating, dtype=np.bool)\n",
    "mask[np.triu_indices_from(mask)] = True\n",
    "\n",
    "# Define a area de render do gráfico\n",
    "f, ax = plt.subplots(figsize=(14, 9))\n",
    "\n",
    "# Gera o colormap\n",
    "cmap = sns.diverging_palette(260, 10, as_cmap=True)\n",
    "\n",
    "# Deseja o mapa de calor com a correlação entre as categorias\n",
    "sns.heatmap(corrRating, mask=mask, cmap=cmap, vmax=1., vmin=-1.,  center=0,\n",
    "            square=True, linewidths=.5, cbar_kws={\"shrink\": .5})"
   ]
  },
  {
   "cell_type": "markdown",
   "metadata": {},
   "source": [
    "### Quais são as categorias que possuem relação entre si?\n",
    "Para verificar a relação entre as categorias é calculado a matriz de correlação, como apresentado na linha 4 da célula a seguir.\n",
    "    \n",
    "Existe uma grande correlação entre algumas categorias, como podemos observar na matriz de correlação apresentada abaixo. Podemos citar como exemplo o fato dos filmes de animação estarem relacionados a filmes infantis (correlação de 0.66). Esta correlação faz sentido visto que a grande maioria dos filmes de animação são direcionados ao público infantil. A mesma análise pode ser feita para categorias com correlação negativa. Neste contexto, podemos citar que os gêneros comédia e suspense não coexistem. Da mesma que filmes de suspense e musicais ou animações.\n",
    "\n",
    "Já alguns gêneros, como documentário e musical, tem correlação muito próxima de zero estando pouco relacionados."
   ]
  },
  {
   "cell_type": "code",
   "execution_count": 13,
   "metadata": {
    "collapsed": false,
    "scrolled": false
   },
   "outputs": [
    {
     "data": {
      "text/plain": [
       "<matplotlib.axes._subplots.AxesSubplot at 0x7f3b2a9d49e8>"
      ]
     },
     "execution_count": 13,
     "metadata": {},
     "output_type": "execute_result"
    },
    {
     "data": {
      "image/png": "[encoded data removed]",
      "text/plain": [
       "<matplotlib.figure.Figure at 0x7f3b2a89b4e0>"
      ]
     },
     "metadata": {},
     "output_type": "display_data"
    }
   ],
   "source": [
    "sns.set(style=\"white\")\n",
    "\n",
    "# Calcula a matriz de correlação das categorias\n",
    "corr = dfMoviesRatingsFinal.drop(['movieId', 'rating', 'NumberRatings', 'userId'],1).corr()\n",
    "\n",
    "# Gera uma máscara para a parte superior do triângulo\n",
    "mask = np.zeros_like(corr, dtype=np.bool)\n",
    "mask[np.triu_indices_from(mask)] = True\n",
    "\n",
    "# Define a area de render do gráfico\n",
    "f, ax = plt.subplots(figsize=(14, 9))\n",
    "\n",
    "# Gera o colormap\n",
    "cmap = sns.diverging_palette(260, 10, as_cmap=True)\n",
    "\n",
    "# Deseja o mapa de calor com a correlação entre as categorias\n",
    "sns.heatmap(corr, mask=mask, cmap=cmap, vmax=1., vmin=-1.,  center=0,\n",
    "            square=True, linewidths=.5, cbar_kws={\"shrink\": .5})"
   ]
  },
  {
   "cell_type": "markdown",
   "metadata": {},
   "source": [
    "A seguir são apresentadas as correlações entre as categorias dos filmes com os respectivos valores."
   ]
  },
  {
   "cell_type": "code",
   "execution_count": 14,
   "metadata": {
    "collapsed": false
   },
   "outputs": [
    {
     "name": "stdout",
     "output_type": "stream",
     "text": [
      "Filmes com correlação POSITIVA\n",
      "Adventure: \t\tAction com valor de 0.332723431776\n",
      "Animation: \t\tChildren com valor de 0.662864071164\n",
      "Children: \t\tAnimation com valor de 0.662864071164\n",
      "Comedy: \t\tRomance com valor de 0.191030418832\n",
      "Fantasy: \t\tChildren com valor de 0.328426912352\n",
      "Romance: \t\tComedy com valor de 0.191030418832\n",
      "Drama: \t\tWar com valor de 0.179425296022\n",
      "Action: \t\tAdventure com valor de 0.332723431776\n",
      "Crime: \t\tThriller com valor de 0.29438304869\n",
      "Thriller: \t\tMystery com valor de 0.304666598599\n",
      "Horror: \t\tThriller com valor de 0.161727513047\n",
      "Mystery: \t\tThriller com valor de 0.304666598599\n",
      "Sci-Fi: \t\tAction com valor de 0.33095518977\n",
      "Documentary: \t\tMusical com valor de 0.000541737000988\n",
      "IMAX: \t\tAdventure com valor de 0.166544564629\n",
      "War: \t\tDrama com valor de 0.179425296022\n",
      "Musical: \t\tAnimation com valor de 0.348446210734\n",
      "Western: \t\tAdventure com valor de 0.0455986505598\n",
      "Film-Noir: \t\tMystery com valor de 0.184554410639\n",
      "\n",
      "\n",
      "Filmes com correlação NEGATIVA\n",
      "Adventure: \t\tDrama com valor de -0.270222731407\n",
      "Animation: \t\tThriller com valor de -0.144603456382\n",
      "Children: \t\tThriller com valor de -0.180849574776\n",
      "Comedy: \t\tThriller com valor de -0.326531208897\n",
      "Fantasy: \t\tDrama com valor de -0.156257417035\n",
      "Romance: \t\tAction com valor de -0.176180140972\n",
      "Drama: \t\tComedy com valor de -0.273575922142\n",
      "Action: \t\tDrama com valor de -0.249450090794\n",
      "Crime: \t\tAdventure com valor de -0.175636402559\n",
      "Thriller: \t\tComedy com valor de -0.326531208897\n",
      "Horror: \t\tDrama com valor de -0.132573285783\n",
      "Mystery: \t\tComedy com valor de -0.170197781435\n",
      "Sci-Fi: \t\tDrama com valor de -0.204354096901\n",
      "Documentary: \t\tDrama com valor de -0.0886646196149\n",
      "IMAX: \t\tComedy com valor de -0.111778434776\n",
      "War: \t\tThriller com valor de -0.0869662908458\n",
      "Musical: \t\tThriller com valor de -0.127433186298\n",
      "Western: \t\tThriller com valor de -0.0656840998463\n",
      "Film-Noir: \t\tComedy com valor de -0.0798232068741\n",
      "\n",
      "\n",
      "Filmes com menor correlação\n",
      "Adventure: \t\tMusical com valor de 0.0176860451157\n",
      "Animation: \t\tRomance com valor de -0.0135795907746\n",
      "Children: \t\tFilm-Noir com valor de -0.033094884397\n",
      "Comedy: \t\tWestern com valor de -0.0257032137251\n",
      "Fantasy: \t\tHorror com valor de 0.00439048331179\n",
      "Romance: \t\tAnimation com valor de -0.0135795907746\n",
      "Drama: \t\tMystery com valor de 0.00200995826946\n",
      "Action: \t\tFantasy com valor de -0.0278456268045\n",
      "Crime: \t\tIMAX com valor de -0.0157240925138\n",
      "Thriller: \t\tIMAX com valor de -0.0147359559427\n",
      "Horror: \t\tFantasy com valor de 0.00439048331179\n",
      "Mystery: \t\tDrama com valor de 0.00200995826946\n",
      "Sci-Fi: \t\tMystery com valor de 0.00633092187811\n",
      "Documentary: \t\tMusical com valor de 0.000541737000988\n",
      "IMAX: \t\tMystery com valor de -0.00512049789184\n",
      "War: \t\tDocumentary com valor de -0.0106052824802\n",
      "Musical: \t\tDocumentary com valor de 0.000541737000988\n",
      "Western: \t\tDrama com valor de -0.0055572963633\n",
      "Film-Noir: \t\tDocumentary com valor de -0.0124404879866\n"
     ]
    }
   ],
   "source": [
    "# Filmes com maior correlação\n",
    "print(\"Filmes com correlação POSITIVA\")\n",
    "dfMax = corr[ corr[:] == np.max(corr[corr[:] != 1]) ]\n",
    "for row in corr:\n",
    "    # Categoria corrente\n",
    "    currentCategoryName = corr.columns[corr.columns == row][0]\n",
    "    # Categoria com a maior correlação \n",
    "    correlatedCategory = dfMax[row].dropna().index[0]\n",
    "    # Correlação\n",
    "    correlation = dfMax[row].dropna()[0]\n",
    "    # Imprimi as maiores correlações entre as categorias\n",
    "    print(\"{}: \\t\\t{} com valor de {}\".format(currentCategoryName, correlatedCategory, \n",
    "                                                                                 str(correlation)))\n",
    "print(\"\\n\\nFilmes com correlação NEGATIVA\")\n",
    "dfMin = corr[ corr[:] == np.min(corr[corr[:] != 1]) ]\n",
    "for row in corr:\n",
    "    # Categoria corrente\n",
    "    currentCategoryName = corr.columns[corr.columns == row][0]\n",
    "    # Categoria com a maior correlação \n",
    "    correlatedCategory = dfMin[row].dropna().index[0]\n",
    "    # Correlação\n",
    "    correlation = dfMin[row].dropna()[0]\n",
    "    # Imprimi as maiores correlações entre as categorias\n",
    "    print(\"{}: \\t\\t{} com valor de {}\".format(currentCategoryName, correlatedCategory, \n",
    "                                                                                 str(correlation)))    \n",
    "print(\"\\n\\nFilmes com menor correlação\")\n",
    "dfMin = corr[ abs(corr[:]) == np.min(abs(corr[corr[:] != 1]))]\n",
    "for row in corr:\n",
    "    # Categoria corrente\n",
    "    currentCategoryName = corr.columns[corr.columns == row][0]\n",
    "    # Categoria com a maior correlação \n",
    "    correlatedCategory = dfMin[row].dropna().index[0]\n",
    "    # Correlação\n",
    "    correlation = dfMin[row].dropna()[0]\n",
    "    # Imprimi as maiores correlações entre as categorias\n",
    "    print(\"{}: \\t\\t{} com valor de {}\".format(currentCategoryName, correlatedCategory, \n",
    "                                                                                 str(correlation))) "
   ]
  },
  {
   "cell_type": "markdown",
   "metadata": {
    "deletable": true,
    "editable": true
   },
   "source": [
    "# Sistema de Recomendação"
   ]
  },
  {
   "cell_type": "markdown",
   "metadata": {},
   "source": [
    "![alt text](Overview _Sistema _Recomendação.jpg \"Title\")\n",
    "    \n",
    "  "
   ]
  },
  {
   "cell_type": "markdown",
   "metadata": {},
   "source": [
    "## Avaliações do usuário"
   ]
  },
  {
   "cell_type": "markdown",
   "metadata": {},
   "source": [
    "## Categorias dos filmes que tiveram os maiores ratings"
   ]
  },
  {
   "cell_type": "markdown",
   "metadata": {},
   "source": [
    "## Filmes do dataset com base na correlação entre as categorias"
   ]
  },
  {
   "cell_type": "markdown",
   "metadata": {},
   "source": [
    "## Recomendação dos Filmes"
   ]
  },
  {
   "cell_type": "code",
   "execution_count": null,
   "metadata": {
    "collapsed": true
   },
   "outputs": [],
   "source": []
  }
 ],
 "metadata": {
  "kernelspec": {
   "display_name": "Python 3",
   "language": "python",
   "name": "python3"
  },
  "language_info": {
   "codemirror_mode": {
    "name": "ipython",
    "version": 3
   },
   "file_extension": ".py",
   "mimetype": "text/x-python",
   "name": "python",
   "nbconvert_exporter": "python",
   "pygments_lexer": "ipython3",
   "version": "3.5.3"
  }
 },
 "nbformat": 4,
 "nbformat_minor": 2
}
