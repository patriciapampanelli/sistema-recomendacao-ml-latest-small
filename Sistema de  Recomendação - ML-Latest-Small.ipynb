{
 "cells": [
  {
   "cell_type": "markdown",
   "metadata": {
    "deletable": true,
    "editable": true
   },
   "source": [
    "# Exploração dos Dados"
   ]
  },
  {
   "cell_type": "markdown",
   "metadata": {
    "deletable": true,
    "editable": true
   },
   "source": [
    "## Carregando o dataset\n",
    "\n",
    "http://files.grouplens.org/datasets/movielens/ml-latest-small.zip"
   ]
  },
  {
   "cell_type": "code",
   "execution_count": 1,
   "metadata": {
    "collapsed": false,
    "deletable": true,
    "editable": true
   },
   "outputs": [],
   "source": [
    "# Pacotes importantes para este projeto\n",
    "import numpy as np\n",
    "import pandas as pd\n",
    "from time import time\n",
    "import seaborn as sns\n",
    "from pandas import Series\n",
    "import matplotlib.pyplot as plt\n",
    "%matplotlib inline "
   ]
  },
  {
   "cell_type": "code",
   "execution_count": 2,
   "metadata": {
    "collapsed": false,
    "deletable": true,
    "editable": true,
    "scrolled": true
   },
   "outputs": [],
   "source": [
    "dfMovies = pd.read_csv(\"./ml-latest-small/movies.csv\")\n",
    "dfRatings = pd.read_csv(\"./ml-latest-small/ratings.csv\")\n",
    "dfTags = pd.read_csv(\"./ml-latest-small/tags.csv\")\n",
    "dfLinks = pd.read_csv(\"./ml-latest-small/links.csv\")\n",
    "\n",
    "# print(\"Movies:\")\n",
    "# print(dfMovies.head())\n",
    "# print(\"Ratings:\")\n",
    "# print(dfRatings.head())\n",
    "# print(\"Tags:\")\n",
    "# print(dfTags.head())\n",
    "# print(\"Links:\")\n",
    "# print(dfLinks.head())\n",
    "\n",
    "# Faz o merge do dataset utilizando os id's dos filmes como chave\n",
    "dfMoviesRatings = pd.merge(dfMovies, dfRatings, on=['movieId'])"
   ]
  },
  {
   "cell_type": "markdown",
   "metadata": {
    "deletable": true,
    "editable": true
   },
   "source": [
    "## Pré-processando os dados"
   ]
  },
  {
   "cell_type": "code",
   "execution_count": 3,
   "metadata": {
    "collapsed": false,
    "scrolled": true
   },
   "outputs": [
    {
     "name": "stdout",
     "output_type": "stream",
     "text": [
      "   movieId                                       genres  userId  rating\n",
      "0        1  Adventure|Animation|Children|Comedy|Fantasy       7     3.0\n",
      "1        1  Adventure|Animation|Children|Comedy|Fantasy       9     4.0\n",
      "2        1  Adventure|Animation|Children|Comedy|Fantasy      13     5.0\n",
      "3        1  Adventure|Animation|Children|Comedy|Fantasy      15     2.0\n",
      "4        1  Adventure|Animation|Children|Comedy|Fantasy      19     3.0\n"
     ]
    }
   ],
   "source": [
    "# Separando os filmes e os títulos\n",
    "moviesTitles = dfMoviesRatings[['movieId', 'title']]\n",
    "moviesTitles = moviesTitles.set_index('movieId')\n",
    "moviesTitles = moviesTitles.drop_duplicates()\n",
    "moviesTitles.head()\n",
    "\n",
    "# Remove colunas que não serão utilizadas no treinamento do sistema de recomendação\n",
    "dfMoviesRatings = dfMoviesRatings.drop(['timestamp', 'title'], 1)\n",
    "print(dfMoviesRatings.head())"
   ]
  },
  {
   "cell_type": "markdown",
   "metadata": {
    "deletable": true,
    "editable": true
   },
   "source": [
    "### Dados nulos ou faltantes"
   ]
  },
  {
   "cell_type": "code",
   "execution_count": 4,
   "metadata": {
    "collapsed": false,
    "deletable": true,
    "editable": true
   },
   "outputs": [
    {
     "name": "stdout",
     "output_type": "stream",
     "text": [
      "Movies - Null values: False\n",
      "Ratings - Null values: False\n",
      "Tags - Null values: False\n",
      "Links - Null values: True\n"
     ]
    }
   ],
   "source": [
    "print(\"Movies - Null values: {}\".format(dfMovies.isnull().any().any()))\n",
    "print(\"Ratings - Null values: {}\".format(dfRatings.isnull().any().any()))\n",
    "print(\"Tags - Null values: {}\".format(dfTags.isnull().any().any()))\n",
    "print(\"Links - Null values: {}\".format(dfLinks.isnull().any().any()))"
   ]
  },
  {
   "cell_type": "markdown",
   "metadata": {
    "deletable": true,
    "editable": true
   },
   "source": [
    "### Análise e processamento das categorias\n",
    "\n",
    "    Nesta etapa estou verificando quais as categorias que são encontradas no dataset:\n",
    "    - categorias repetidas;\n",
    "    - itens que não correspondem às categorias;"
   ]
  },
  {
   "cell_type": "code",
   "execution_count": 5,
   "metadata": {
    "collapsed": false
   },
   "outputs": [
    {
     "data": {
      "text/plain": [
       "array(['Adventure', 'Animation', 'Children', 'Comedy', 'Fantasy', None,\n",
       "       'Romance', 'Drama', 'Action', 'Crime', 'Thriller', 'Horror',\n",
       "       'Mystery', 'Sci-Fi', 'Documentary', 'IMAX', 'War', 'Musical',\n",
       "       'Western', 'Film-Noir', '(no genres listed)'], dtype=object)"
      ]
     },
     "execution_count": 5,
     "metadata": {},
     "output_type": "execute_result"
    }
   ],
   "source": [
    "# Encontra todas as categorias presentes no dataset\n",
    "dfCategories = dfMoviesRatings.genres.str.split(pat=\"|\", expand=True)\n",
    "dfCategories = Series(dfCategories.values.ravel()).unique()\n",
    "dfCategories"
   ]
  },
  {
   "cell_type": "code",
   "execution_count": 6,
   "metadata": {
    "collapsed": false
   },
   "outputs": [
    {
     "data": {
      "text/html": [
       "<div>\n",
       "<table border=\"1\" class=\"dataframe\">\n",
       "  <thead>\n",
       "    <tr style=\"text-align: right;\">\n",
       "      <th></th>\n",
       "      <th>movieId</th>\n",
       "      <th>genres</th>\n",
       "      <th>userId</th>\n",
       "      <th>rating</th>\n",
       "      <th>Adventure</th>\n",
       "      <th>Animation</th>\n",
       "      <th>Children</th>\n",
       "      <th>Comedy</th>\n",
       "      <th>Fantasy</th>\n",
       "      <th>None</th>\n",
       "      <th>...</th>\n",
       "      <th>Horror</th>\n",
       "      <th>Mystery</th>\n",
       "      <th>Sci-Fi</th>\n",
       "      <th>Documentary</th>\n",
       "      <th>IMAX</th>\n",
       "      <th>War</th>\n",
       "      <th>Musical</th>\n",
       "      <th>Western</th>\n",
       "      <th>Film-Noir</th>\n",
       "      <th>(no genres listed)</th>\n",
       "    </tr>\n",
       "  </thead>\n",
       "  <tbody>\n",
       "    <tr>\n",
       "      <th>0</th>\n",
       "      <td>1</td>\n",
       "      <td>Adventure|Animation|Children|Comedy|Fantasy</td>\n",
       "      <td>7</td>\n",
       "      <td>3.0</td>\n",
       "      <td>0</td>\n",
       "      <td>0</td>\n",
       "      <td>0</td>\n",
       "      <td>0</td>\n",
       "      <td>0</td>\n",
       "      <td>0</td>\n",
       "      <td>...</td>\n",
       "      <td>0</td>\n",
       "      <td>0</td>\n",
       "      <td>0</td>\n",
       "      <td>0</td>\n",
       "      <td>0</td>\n",
       "      <td>0</td>\n",
       "      <td>0</td>\n",
       "      <td>0</td>\n",
       "      <td>0</td>\n",
       "      <td>0</td>\n",
       "    </tr>\n",
       "    <tr>\n",
       "      <th>1</th>\n",
       "      <td>1</td>\n",
       "      <td>Adventure|Animation|Children|Comedy|Fantasy</td>\n",
       "      <td>9</td>\n",
       "      <td>4.0</td>\n",
       "      <td>0</td>\n",
       "      <td>0</td>\n",
       "      <td>0</td>\n",
       "      <td>0</td>\n",
       "      <td>0</td>\n",
       "      <td>0</td>\n",
       "      <td>...</td>\n",
       "      <td>0</td>\n",
       "      <td>0</td>\n",
       "      <td>0</td>\n",
       "      <td>0</td>\n",
       "      <td>0</td>\n",
       "      <td>0</td>\n",
       "      <td>0</td>\n",
       "      <td>0</td>\n",
       "      <td>0</td>\n",
       "      <td>0</td>\n",
       "    </tr>\n",
       "    <tr>\n",
       "      <th>2</th>\n",
       "      <td>1</td>\n",
       "      <td>Adventure|Animation|Children|Comedy|Fantasy</td>\n",
       "      <td>13</td>\n",
       "      <td>5.0</td>\n",
       "      <td>0</td>\n",
       "      <td>0</td>\n",
       "      <td>0</td>\n",
       "      <td>0</td>\n",
       "      <td>0</td>\n",
       "      <td>0</td>\n",
       "      <td>...</td>\n",
       "      <td>0</td>\n",
       "      <td>0</td>\n",
       "      <td>0</td>\n",
       "      <td>0</td>\n",
       "      <td>0</td>\n",
       "      <td>0</td>\n",
       "      <td>0</td>\n",
       "      <td>0</td>\n",
       "      <td>0</td>\n",
       "      <td>0</td>\n",
       "    </tr>\n",
       "    <tr>\n",
       "      <th>3</th>\n",
       "      <td>1</td>\n",
       "      <td>Adventure|Animation|Children|Comedy|Fantasy</td>\n",
       "      <td>15</td>\n",
       "      <td>2.0</td>\n",
       "      <td>0</td>\n",
       "      <td>0</td>\n",
       "      <td>0</td>\n",
       "      <td>0</td>\n",
       "      <td>0</td>\n",
       "      <td>0</td>\n",
       "      <td>...</td>\n",
       "      <td>0</td>\n",
       "      <td>0</td>\n",
       "      <td>0</td>\n",
       "      <td>0</td>\n",
       "      <td>0</td>\n",
       "      <td>0</td>\n",
       "      <td>0</td>\n",
       "      <td>0</td>\n",
       "      <td>0</td>\n",
       "      <td>0</td>\n",
       "    </tr>\n",
       "    <tr>\n",
       "      <th>4</th>\n",
       "      <td>1</td>\n",
       "      <td>Adventure|Animation|Children|Comedy|Fantasy</td>\n",
       "      <td>19</td>\n",
       "      <td>3.0</td>\n",
       "      <td>0</td>\n",
       "      <td>0</td>\n",
       "      <td>0</td>\n",
       "      <td>0</td>\n",
       "      <td>0</td>\n",
       "      <td>0</td>\n",
       "      <td>...</td>\n",
       "      <td>0</td>\n",
       "      <td>0</td>\n",
       "      <td>0</td>\n",
       "      <td>0</td>\n",
       "      <td>0</td>\n",
       "      <td>0</td>\n",
       "      <td>0</td>\n",
       "      <td>0</td>\n",
       "      <td>0</td>\n",
       "      <td>0</td>\n",
       "    </tr>\n",
       "  </tbody>\n",
       "</table>\n",
       "<p>5 rows × 25 columns</p>\n",
       "</div>"
      ],
      "text/plain": [
       "   movieId                                       genres  userId  rating  \\\n",
       "0        1  Adventure|Animation|Children|Comedy|Fantasy       7     3.0   \n",
       "1        1  Adventure|Animation|Children|Comedy|Fantasy       9     4.0   \n",
       "2        1  Adventure|Animation|Children|Comedy|Fantasy      13     5.0   \n",
       "3        1  Adventure|Animation|Children|Comedy|Fantasy      15     2.0   \n",
       "4        1  Adventure|Animation|Children|Comedy|Fantasy      19     3.0   \n",
       "\n",
       "   Adventure  Animation  Children  Comedy  Fantasy  NaN         ...          \\\n",
       "0          0          0         0       0        0    0         ...           \n",
       "1          0          0         0       0        0    0         ...           \n",
       "2          0          0         0       0        0    0         ...           \n",
       "3          0          0         0       0        0    0         ...           \n",
       "4          0          0         0       0        0    0         ...           \n",
       "\n",
       "   Horror  Mystery  Sci-Fi  Documentary  IMAX  War  Musical  Western  \\\n",
       "0       0        0       0            0     0    0        0        0   \n",
       "1       0        0       0            0     0    0        0        0   \n",
       "2       0        0       0            0     0    0        0        0   \n",
       "3       0        0       0            0     0    0        0        0   \n",
       "4       0        0       0            0     0    0        0        0   \n",
       "\n",
       "   Film-Noir  (no genres listed)  \n",
       "0          0                   0  \n",
       "1          0                   0  \n",
       "2          0                   0  \n",
       "3          0                   0  \n",
       "4          0                   0  \n",
       "\n",
       "[5 rows x 25 columns]"
      ]
     },
     "execution_count": 6,
     "metadata": {},
     "output_type": "execute_result"
    }
   ],
   "source": [
    "# Insere as colunas de cada categoria  \n",
    "for col in dfCategories:\n",
    "    dfMoviesRatings.insert(loc= len(dfMoviesRatings.columns), column=col, value=0)\n",
    "dfMoviesRatings.head()"
   ]
  },
  {
   "cell_type": "code",
   "execution_count": 7,
   "metadata": {
    "collapsed": false,
    "deletable": true,
    "editable": true,
    "scrolled": true
   },
   "outputs": [
    {
     "data": {
      "text/html": [
       "<div>\n",
       "<table border=\"1\" class=\"dataframe\">\n",
       "  <thead>\n",
       "    <tr style=\"text-align: right;\">\n",
       "      <th></th>\n",
       "      <th>movieId</th>\n",
       "      <th>genres</th>\n",
       "      <th>userId</th>\n",
       "      <th>rating</th>\n",
       "      <th>Adventure</th>\n",
       "      <th>Animation</th>\n",
       "      <th>Children</th>\n",
       "      <th>Comedy</th>\n",
       "      <th>Fantasy</th>\n",
       "      <th>None</th>\n",
       "      <th>...</th>\n",
       "      <th>Horror</th>\n",
       "      <th>Mystery</th>\n",
       "      <th>Sci-Fi</th>\n",
       "      <th>Documentary</th>\n",
       "      <th>IMAX</th>\n",
       "      <th>War</th>\n",
       "      <th>Musical</th>\n",
       "      <th>Western</th>\n",
       "      <th>Film-Noir</th>\n",
       "      <th>(no genres listed)</th>\n",
       "    </tr>\n",
       "  </thead>\n",
       "  <tbody>\n",
       "    <tr>\n",
       "      <th>0</th>\n",
       "      <td>1</td>\n",
       "      <td>Adventure|Animation|Children|Comedy|Fantasy</td>\n",
       "      <td>7</td>\n",
       "      <td>3.0</td>\n",
       "      <td>1</td>\n",
       "      <td>1</td>\n",
       "      <td>1</td>\n",
       "      <td>1</td>\n",
       "      <td>1</td>\n",
       "      <td>0</td>\n",
       "      <td>...</td>\n",
       "      <td>0</td>\n",
       "      <td>0</td>\n",
       "      <td>0</td>\n",
       "      <td>0</td>\n",
       "      <td>0</td>\n",
       "      <td>0</td>\n",
       "      <td>0</td>\n",
       "      <td>0</td>\n",
       "      <td>0</td>\n",
       "      <td>0</td>\n",
       "    </tr>\n",
       "    <tr>\n",
       "      <th>1</th>\n",
       "      <td>1</td>\n",
       "      <td>Adventure|Animation|Children|Comedy|Fantasy</td>\n",
       "      <td>9</td>\n",
       "      <td>4.0</td>\n",
       "      <td>1</td>\n",
       "      <td>1</td>\n",
       "      <td>1</td>\n",
       "      <td>1</td>\n",
       "      <td>1</td>\n",
       "      <td>0</td>\n",
       "      <td>...</td>\n",
       "      <td>0</td>\n",
       "      <td>0</td>\n",
       "      <td>0</td>\n",
       "      <td>0</td>\n",
       "      <td>0</td>\n",
       "      <td>0</td>\n",
       "      <td>0</td>\n",
       "      <td>0</td>\n",
       "      <td>0</td>\n",
       "      <td>0</td>\n",
       "    </tr>\n",
       "    <tr>\n",
       "      <th>2</th>\n",
       "      <td>1</td>\n",
       "      <td>Adventure|Animation|Children|Comedy|Fantasy</td>\n",
       "      <td>13</td>\n",
       "      <td>5.0</td>\n",
       "      <td>1</td>\n",
       "      <td>1</td>\n",
       "      <td>1</td>\n",
       "      <td>1</td>\n",
       "      <td>1</td>\n",
       "      <td>0</td>\n",
       "      <td>...</td>\n",
       "      <td>0</td>\n",
       "      <td>0</td>\n",
       "      <td>0</td>\n",
       "      <td>0</td>\n",
       "      <td>0</td>\n",
       "      <td>0</td>\n",
       "      <td>0</td>\n",
       "      <td>0</td>\n",
       "      <td>0</td>\n",
       "      <td>0</td>\n",
       "    </tr>\n",
       "    <tr>\n",
       "      <th>3</th>\n",
       "      <td>1</td>\n",
       "      <td>Adventure|Animation|Children|Comedy|Fantasy</td>\n",
       "      <td>15</td>\n",
       "      <td>2.0</td>\n",
       "      <td>1</td>\n",
       "      <td>1</td>\n",
       "      <td>1</td>\n",
       "      <td>1</td>\n",
       "      <td>1</td>\n",
       "      <td>0</td>\n",
       "      <td>...</td>\n",
       "      <td>0</td>\n",
       "      <td>0</td>\n",
       "      <td>0</td>\n",
       "      <td>0</td>\n",
       "      <td>0</td>\n",
       "      <td>0</td>\n",
       "      <td>0</td>\n",
       "      <td>0</td>\n",
       "      <td>0</td>\n",
       "      <td>0</td>\n",
       "    </tr>\n",
       "    <tr>\n",
       "      <th>4</th>\n",
       "      <td>1</td>\n",
       "      <td>Adventure|Animation|Children|Comedy|Fantasy</td>\n",
       "      <td>19</td>\n",
       "      <td>3.0</td>\n",
       "      <td>1</td>\n",
       "      <td>1</td>\n",
       "      <td>1</td>\n",
       "      <td>1</td>\n",
       "      <td>1</td>\n",
       "      <td>0</td>\n",
       "      <td>...</td>\n",
       "      <td>0</td>\n",
       "      <td>0</td>\n",
       "      <td>0</td>\n",
       "      <td>0</td>\n",
       "      <td>0</td>\n",
       "      <td>0</td>\n",
       "      <td>0</td>\n",
       "      <td>0</td>\n",
       "      <td>0</td>\n",
       "      <td>0</td>\n",
       "    </tr>\n",
       "  </tbody>\n",
       "</table>\n",
       "<p>5 rows × 25 columns</p>\n",
       "</div>"
      ],
      "text/plain": [
       "   movieId                                       genres  userId  rating  \\\n",
       "0        1  Adventure|Animation|Children|Comedy|Fantasy       7     3.0   \n",
       "1        1  Adventure|Animation|Children|Comedy|Fantasy       9     4.0   \n",
       "2        1  Adventure|Animation|Children|Comedy|Fantasy      13     5.0   \n",
       "3        1  Adventure|Animation|Children|Comedy|Fantasy      15     2.0   \n",
       "4        1  Adventure|Animation|Children|Comedy|Fantasy      19     3.0   \n",
       "\n",
       "   Adventure  Animation  Children  Comedy  Fantasy  NaN         ...          \\\n",
       "0          1          1         1       1        1    0         ...           \n",
       "1          1          1         1       1        1    0         ...           \n",
       "2          1          1         1       1        1    0         ...           \n",
       "3          1          1         1       1        1    0         ...           \n",
       "4          1          1         1       1        1    0         ...           \n",
       "\n",
       "   Horror  Mystery  Sci-Fi  Documentary  IMAX  War  Musical  Western  \\\n",
       "0       0        0       0            0     0    0        0        0   \n",
       "1       0        0       0            0     0    0        0        0   \n",
       "2       0        0       0            0     0    0        0        0   \n",
       "3       0        0       0            0     0    0        0        0   \n",
       "4       0        0       0            0     0    0        0        0   \n",
       "\n",
       "   Film-Noir  (no genres listed)  \n",
       "0          0                   0  \n",
       "1          0                   0  \n",
       "2          0                   0  \n",
       "3          0                   0  \n",
       "4          0                   0  \n",
       "\n",
       "[5 rows x 25 columns]"
      ]
     },
     "execution_count": 7,
     "metadata": {},
     "output_type": "execute_result"
    }
   ],
   "source": [
    "# Transforma cada categoria em uma feature\n",
    "count = 0\n",
    "for i, row in dfMoviesRatings.iterrows():\n",
    "    dfMoviesRatings.set_value(col=row[1].split(sep=\"|\"), index=i, value=1)\n",
    "\n",
    "dfMoviesRatings.head()"
   ]
  },
  {
   "cell_type": "markdown",
   "metadata": {},
   "source": [
    "Nesta célula estou removendo as colunas \"None\" e \"(no genres listed)\" que não correspondem às categorias de filmes. "
   ]
  },
  {
   "cell_type": "code",
   "execution_count": 8,
   "metadata": {
    "collapsed": false
   },
   "outputs": [],
   "source": [
    "# Remove as categorias: None, '(no genres listed)'\n",
    "dfMoviesRatings = dfMoviesRatings.drop([None, '(no genres listed)','genres'], 1)"
   ]
  },
  {
   "cell_type": "markdown",
   "metadata": {
    "collapsed": false,
    "deletable": true,
    "editable": true
   },
   "source": [
    "### Tags\n",
    "\n",
    "    - Avaliar os tags mais comuns;\n",
    "    - Existe relação das tags com as avaliações? Palavras positivas e negativas?"
   ]
  },
  {
   "cell_type": "markdown",
   "metadata": {
    "collapsed": true,
    "deletable": true,
    "editable": true
   },
   "source": [
    "### Análise e processamento dos nomes dos filmes\n",
    "\n",
    "    - Avaliar se existem nomes de um mesmo filme com escritas diferentes;\n",
    "    - "
   ]
  },
  {
   "cell_type": "markdown",
   "metadata": {
    "deletable": true,
    "editable": true
   },
   "source": [
    "### Análise e processamentos dos ratings\n",
    "\n",
    "    - Normalizar os valores;"
   ]
  },
  {
   "cell_type": "markdown",
   "metadata": {},
   "source": [
    "#### Verificar se o número de ratings é uniforme entre os filmes\n",
    "\n",
    "TODO: Detalhar observações"
   ]
  },
  {
   "cell_type": "code",
   "execution_count": 9,
   "metadata": {
    "collapsed": false,
    "deletable": true,
    "editable": true,
    "scrolled": false
   },
   "outputs": [
    {
     "name": "stdout",
     "output_type": "stream",
     "text": [
      "Algumas estatísticas:\n"
     ]
    },
    {
     "data": {
      "text/plain": [
       "count    9066.000000\n",
       "mean       11.030664\n",
       "std        24.050800\n",
       "min         1.000000\n",
       "25%         1.000000\n",
       "50%         3.000000\n",
       "75%         9.000000\n",
       "max       341.000000\n",
       "dtype: float64"
      ]
     },
     "execution_count": 9,
     "metadata": {},
     "output_type": "execute_result"
    },
    {
     "data": {
      "image/png": "[encoded data removed]",
      "text/plain": [
       "<matplotlib.figure.Figure at 0x7f3b2b0c0e80>"
      ]
     },
     "metadata": {},
     "output_type": "display_data"
    }
   ],
   "source": [
    "# Verifica o número de avaliações por filme\n",
    "number_of_ratings_per_movie = pd.value_counts(dfMoviesRatings['movieId'].values, sort=False)\n",
    "\n",
    "# Apresenta o gráfico com a distribuição o número de avaliações por filme\n",
    "sns.distplot(pd.Series(number_of_ratings_per_movie, name=\"\"))\n",
    "\n",
    "# Algumas estatísticas\n",
    "print('Algumas estatísticas:')\n",
    "number_of_ratings_per_movie.describe()"
   ]
  },
  {
   "cell_type": "code",
   "execution_count": 10,
   "metadata": {
    "collapsed": false,
    "scrolled": false
   },
   "outputs": [
    {
     "name": "stdout",
     "output_type": "stream",
     "text": [
      "Algumas estatísticas:\n"
     ]
    },
    {
     "data": {
      "text/plain": [
       "count    6003.000000\n",
       "mean       16.148759\n",
       "std        28.215085\n",
       "min         2.000000\n",
       "25%         3.000000\n",
       "50%         6.000000\n",
       "75%        16.000000\n",
       "max       341.000000\n",
       "Name: 0, dtype: float64"
      ]
     },
     "execution_count": 10,
     "metadata": {},
     "output_type": "execute_result"
    },
    {
     "data": {
      "image/png": "[encoded data removed]",
      "text/plain": [
       "<matplotlib.figure.Figure at 0x7f3b2a8c0550>"
      ]
     },
     "metadata": {},
     "output_type": "display_data"
    }
   ],
   "source": [
    "# Retirando 10% dos filmes que apresentam muito menos ratings que os demais 90%\n",
    "new_data = number_of_ratings_per_movie.to_frame()[number_of_ratings_per_movie > \n",
    "                                                  number_of_ratings_per_movie.quantile(0.10)]\n",
    "\n",
    "sns.distplot(pd.Series(new_data[0], name=\"\"))\n",
    "\n",
    "# Algumas estatísticas\n",
    "print('Algumas estatísticas:')\n",
    "new_data[0].describe()\n"
   ]
  },
  {
   "cell_type": "markdown",
   "metadata": {},
   "source": [
    "A seguir são removidos os filmes que apresentam um número de ratings muito menor que os demais. Isso se deve ao fato de que as avaliações destes filmes são pouco expressivas diante dos demais filmes. O método de machine learning teria dificuldade para generalizar tendo tão poucas amostras."
   ]
  },
  {
   "cell_type": "code",
   "execution_count": 11,
   "metadata": {
    "collapsed": false,
    "scrolled": true
   },
   "outputs": [
    {
     "data": {
      "text/html": [
       "<div>\n",
       "<table border=\"1\" class=\"dataframe\">\n",
       "  <thead>\n",
       "    <tr style=\"text-align: right;\">\n",
       "      <th></th>\n",
       "      <th>movieId</th>\n",
       "      <th>userId</th>\n",
       "      <th>rating</th>\n",
       "      <th>Adventure</th>\n",
       "      <th>Animation</th>\n",
       "      <th>Children</th>\n",
       "      <th>Comedy</th>\n",
       "      <th>Fantasy</th>\n",
       "      <th>Romance</th>\n",
       "      <th>Drama</th>\n",
       "      <th>...</th>\n",
       "      <th>Horror</th>\n",
       "      <th>Mystery</th>\n",
       "      <th>Sci-Fi</th>\n",
       "      <th>Documentary</th>\n",
       "      <th>IMAX</th>\n",
       "      <th>War</th>\n",
       "      <th>Musical</th>\n",
       "      <th>Western</th>\n",
       "      <th>Film-Noir</th>\n",
       "      <th>NumberRatings</th>\n",
       "    </tr>\n",
       "  </thead>\n",
       "  <tbody>\n",
       "    <tr>\n",
       "      <th>0</th>\n",
       "      <td>1</td>\n",
       "      <td>7</td>\n",
       "      <td>3.0</td>\n",
       "      <td>1</td>\n",
       "      <td>1</td>\n",
       "      <td>1</td>\n",
       "      <td>1</td>\n",
       "      <td>1</td>\n",
       "      <td>0</td>\n",
       "      <td>0</td>\n",
       "      <td>...</td>\n",
       "      <td>0</td>\n",
       "      <td>0</td>\n",
       "      <td>0</td>\n",
       "      <td>0</td>\n",
       "      <td>0</td>\n",
       "      <td>0</td>\n",
       "      <td>0</td>\n",
       "      <td>0</td>\n",
       "      <td>0</td>\n",
       "      <td>247</td>\n",
       "    </tr>\n",
       "    <tr>\n",
       "      <th>1</th>\n",
       "      <td>1</td>\n",
       "      <td>9</td>\n",
       "      <td>4.0</td>\n",
       "      <td>1</td>\n",
       "      <td>1</td>\n",
       "      <td>1</td>\n",
       "      <td>1</td>\n",
       "      <td>1</td>\n",
       "      <td>0</td>\n",
       "      <td>0</td>\n",
       "      <td>...</td>\n",
       "      <td>0</td>\n",
       "      <td>0</td>\n",
       "      <td>0</td>\n",
       "      <td>0</td>\n",
       "      <td>0</td>\n",
       "      <td>0</td>\n",
       "      <td>0</td>\n",
       "      <td>0</td>\n",
       "      <td>0</td>\n",
       "      <td>247</td>\n",
       "    </tr>\n",
       "    <tr>\n",
       "      <th>2</th>\n",
       "      <td>1</td>\n",
       "      <td>13</td>\n",
       "      <td>5.0</td>\n",
       "      <td>1</td>\n",
       "      <td>1</td>\n",
       "      <td>1</td>\n",
       "      <td>1</td>\n",
       "      <td>1</td>\n",
       "      <td>0</td>\n",
       "      <td>0</td>\n",
       "      <td>...</td>\n",
       "      <td>0</td>\n",
       "      <td>0</td>\n",
       "      <td>0</td>\n",
       "      <td>0</td>\n",
       "      <td>0</td>\n",
       "      <td>0</td>\n",
       "      <td>0</td>\n",
       "      <td>0</td>\n",
       "      <td>0</td>\n",
       "      <td>247</td>\n",
       "    </tr>\n",
       "    <tr>\n",
       "      <th>3</th>\n",
       "      <td>1</td>\n",
       "      <td>15</td>\n",
       "      <td>2.0</td>\n",
       "      <td>1</td>\n",
       "      <td>1</td>\n",
       "      <td>1</td>\n",
       "      <td>1</td>\n",
       "      <td>1</td>\n",
       "      <td>0</td>\n",
       "      <td>0</td>\n",
       "      <td>...</td>\n",
       "      <td>0</td>\n",
       "      <td>0</td>\n",
       "      <td>0</td>\n",
       "      <td>0</td>\n",
       "      <td>0</td>\n",
       "      <td>0</td>\n",
       "      <td>0</td>\n",
       "      <td>0</td>\n",
       "      <td>0</td>\n",
       "      <td>247</td>\n",
       "    </tr>\n",
       "    <tr>\n",
       "      <th>4</th>\n",
       "      <td>1</td>\n",
       "      <td>19</td>\n",
       "      <td>3.0</td>\n",
       "      <td>1</td>\n",
       "      <td>1</td>\n",
       "      <td>1</td>\n",
       "      <td>1</td>\n",
       "      <td>1</td>\n",
       "      <td>0</td>\n",
       "      <td>0</td>\n",
       "      <td>...</td>\n",
       "      <td>0</td>\n",
       "      <td>0</td>\n",
       "      <td>0</td>\n",
       "      <td>0</td>\n",
       "      <td>0</td>\n",
       "      <td>0</td>\n",
       "      <td>0</td>\n",
       "      <td>0</td>\n",
       "      <td>0</td>\n",
       "      <td>247</td>\n",
       "    </tr>\n",
       "  </tbody>\n",
       "</table>\n",
       "<p>5 rows × 23 columns</p>\n",
       "</div>"
      ],
      "text/plain": [
       "   movieId  userId  rating  Adventure  Animation  Children  Comedy  Fantasy  \\\n",
       "0        1       7     3.0          1          1         1       1        1   \n",
       "1        1       9     4.0          1          1         1       1        1   \n",
       "2        1      13     5.0          1          1         1       1        1   \n",
       "3        1      15     2.0          1          1         1       1        1   \n",
       "4        1      19     3.0          1          1         1       1        1   \n",
       "\n",
       "   Romance  Drama      ...        Horror  Mystery  Sci-Fi  Documentary  IMAX  \\\n",
       "0        0      0      ...             0        0       0            0     0   \n",
       "1        0      0      ...             0        0       0            0     0   \n",
       "2        0      0      ...             0        0       0            0     0   \n",
       "3        0      0      ...             0        0       0            0     0   \n",
       "4        0      0      ...             0        0       0            0     0   \n",
       "\n",
       "   War  Musical  Western  Film-Noir  NumberRatings  \n",
       "0    0        0        0          0            247  \n",
       "1    0        0        0          0            247  \n",
       "2    0        0        0          0            247  \n",
       "3    0        0        0          0            247  \n",
       "4    0        0        0          0            247  \n",
       "\n",
       "[5 rows x 23 columns]"
      ]
     },
     "execution_count": 11,
     "metadata": {},
     "output_type": "execute_result"
    }
   ],
   "source": [
    "# Obtendo o dataset final retirando 10% dos filmes que apresentam muito menos ratings que os demais 80%\n",
    "new_data[\"movieId\"] = new_data.index\n",
    "dfMoviesRatingsFinal = pd.merge(dfMoviesRatings, new_data, how='inner', on=['movieId'])\n",
    "dfMoviesRatingsFinal = dfMoviesRatingsFinal.rename(columns={0: 'NumberRatings'})\n",
    "dfMoviesRatingsFinal.head()"
   ]
  },
  {
   "cell_type": "markdown",
   "metadata": {
    "deletable": true,
    "editable": true
   },
   "source": [
    "## Conclusões"
   ]
  },
  {
   "cell_type": "markdown",
   "metadata": {},
   "source": [
    "### Existe alguma relação entre a categoria do filme e a forma que ele é avaliado?\n",
    "\n",
    "Para avaliar se existe relação entre o rating e as categorias de filmes foi calculada a matriz de correlação, através da função ```corr()``` do pacote Pandas (linha 4). Além disso, foram apresentadas somente as correlações associadas ao rating (linha 7). Foi utilizada uma tabela de cores para facilitar a visualização dos dados. As cores mais próximas do vermelho ou azul apresentam correlações positivas ou negativas, respectivamente. Já as cores mais próximas do cinza apresentam baixa correlação.\n",
    "\n",
    "O gráfico abaixo mostra que somente algumas categorias estão relacionadas com os ratings como, por exemplo, comédia, drama e ação. "
   ]
  },
  {
   "cell_type": "code",
   "execution_count": 12,
   "metadata": {
    "collapsed": false
   },
   "outputs": [
    {
     "data": {
      "text/plain": [
       "<matplotlib.axes._subplots.AxesSubplot at 0x7f3b2a98a320>"
      ]
     },
     "execution_count": 12,
     "metadata": {},
     "output_type": "execute_result"
    },
    {
     "data": {
      "image/png": "[encoded data removed]",
      "text/plain": [
       "<matplotlib.figure.Figure at 0x7f3b2a889c18>"
      ]
     },
     "metadata": {},
     "output_type": "display_data"
    }
   ],
   "source": [
    "sns.set(style=\"white\")\n",
    "\n",
    "# Calcula a matriz de correlação das categorias\n",
    "corr = dfMoviesRatingsFinal.drop(['movieId', 'NumberRatings','userId'],1).corr()\n",
    "\n",
    "# Gera uma máscara para a parte superior do triângulo\n",
    "corrRating = corr[['rating']]\n",
    "mask = np.zeros_like(corrRating, dtype=np.bool)\n",
    "mask[np.triu_indices_from(mask)] = True\n",
    "\n",
    "# Define a area de render do gráfico\n",
    "f, ax = plt.subplots(figsize=(14, 9))\n",
    "\n",
    "# Gera o colormap\n",
    "cmap = sns.diverging_palette(260, 10, as_cmap=True)\n",
    "\n",
    "# Deseja o mapa de calor com a correlação entre as categorias\n",
    "sns.heatmap(corrRating, mask=mask, cmap=cmap, vmax=1., vmin=-1.,  center=0,\n",
    "            square=True, linewidths=.5, cbar_kws={\"shrink\": .5})"
   ]
  },
  {
   "cell_type": "markdown",
   "metadata": {},
   "source": [
    "### Quais são as categorias que possuem relação entre si?\n",
    "Para verificar a relação entre as categorias é calculado a matriz de correlação, como apresentado na linha 4 da célula a seguir.\n",
    "    \n",
    "Existe uma grande correlação entre algumas categorias, como podemos observar na matriz de correlação apresentada abaixo. Podemos citar como exemplo o fato dos filmes de animação estarem relacionados a filmes infantis (correlação de 0.66). Esta correlação faz sentido visto que a grande maioria dos filmes de animação são direcionados ao público infantil. A mesma análise pode ser feita para categorias com correlação negativa. Neste contexto, podemos citar que os gêneros comédia e suspense não coexistem. Da mesma que filmes de suspense e musicais ou animações.\n",
    "\n",
    "Já alguns gêneros, como documentário e musical, tem correlação muito próxima de zero estando pouco relacionados."
   ]
  },
  {
   "cell_type": "code",
   "execution_count": 13,
   "metadata": {
    "collapsed": false,
    "scrolled": false
   },
   "outputs": [
    {
     "data": {
      "text/plain": [
       "<matplotlib.axes._subplots.AxesSubplot at 0x7f3b2a9d49e8>"
      ]
     },
     "execution_count": 13,
     "metadata": {},
     "output_type": "execute_result"
    },
    {
     "data": {
      "image/png": "[encoded data removed]",
      "text/plain": [
       "<matplotlib.figure.Figure at 0x7f3b2a89b4e0>"
      ]
     },
     "metadata": {},
     "output_type": "display_data"
    }
   ],
   "source": [
    "sns.set(style=\"white\")\n",
    "\n",
    "# Calcula a matriz de correlação das categorias\n",
    "corr = dfMoviesRatingsFinal.drop(['movieId', 'rating', 'NumberRatings', 'userId'],1).corr()\n",
    "\n",
    "# Gera uma máscara para a parte superior do triângulo\n",
    "mask = np.zeros_like(corr, dtype=np.bool)\n",
    "mask[np.triu_indices_from(mask)] = True\n",
    "\n",
    "# Define a area de render do gráfico\n",
    "f, ax = plt.subplots(figsize=(14, 9))\n",
    "\n",
    "# Gera o colormap\n",
    "cmap = sns.diverging_palette(260, 10, as_cmap=True)\n",
    "\n",
    "# Deseja o mapa de calor com a correlação entre as categorias\n",
    "sns.heatmap(corr, mask=mask, cmap=cmap, vmax=1., vmin=-1.,  center=0,\n",
    "            square=True, linewidths=.5, cbar_kws={\"shrink\": .5})"
   ]
  },
  {
   "cell_type": "markdown",
   "metadata": {},
   "source": [
    "A seguir são apresentadas as correlações entre as categorias dos filmes com os respectivos valores."
   ]
  },
  {
   "cell_type": "code",
   "execution_count": 14,
   "metadata": {
    "collapsed": false
   },
   "outputs": [
    {
     "name": "stdout",
     "output_type": "stream",
     "text": [
      "Filmes com correlação POSITIVA\n",
      "Adventure: \t\tAction com valor de 0.332723431776\n",
      "Animation: \t\tChildren com valor de 0.662864071164\n",
      "Children: \t\tAnimation com valor de 0.662864071164\n",
      "Comedy: \t\tRomance com valor de 0.191030418832\n",
      "Fantasy: \t\tChildren com valor de 0.328426912352\n",
      "Romance: \t\tComedy com valor de 0.191030418832\n",
      "Drama: \t\tWar com valor de 0.179425296022\n",
      "Action: \t\tAdventure com valor de 0.332723431776\n",
      "Crime: \t\tThriller com valor de 0.29438304869\n",
      "Thriller: \t\tMystery com valor de 0.304666598599\n",
      "Horror: \t\tThriller com valor de 0.161727513047\n",
      "Mystery: \t\tThriller com valor de 0.304666598599\n",
      "Sci-Fi: \t\tAction com valor de 0.33095518977\n",
      "Documentary: \t\tMusical com valor de 0.000541737000988\n",
      "IMAX: \t\tAdventure com valor de 0.166544564629\n",
      "War: \t\tDrama com valor de 0.179425296022\n",
      "Musical: \t\tAnimation com valor de 0.348446210734\n",
      "Western: \t\tAdventure com valor de 0.0455986505598\n",
      "Film-Noir: \t\tMystery com valor de 0.184554410639\n",
      "\n",
      "\n",
      "Filmes com correlação NEGATIVA\n",
      "Adventure: \t\tDrama com valor de -0.270222731407\n",
      "Animation: \t\tThriller com valor de -0.144603456382\n",
      "Children: \t\tThriller com valor de -0.180849574776\n",
      "Comedy: \t\tThriller com valor de -0.326531208897\n",
      "Fantasy: \t\tDrama com valor de -0.156257417035\n",
      "Romance: \t\tAction com valor de -0.176180140972\n",
      "Drama: \t\tComedy com valor de -0.273575922142\n",
      "Action: \t\tDrama com valor de -0.249450090794\n",
      "Crime: \t\tAdventure com valor de -0.175636402559\n",
      "Thriller: \t\tComedy com valor de -0.326531208897\n",
      "Horror: \t\tDrama com valor de -0.132573285783\n",
      "Mystery: \t\tComedy com valor de -0.170197781435\n",
      "Sci-Fi: \t\tDrama com valor de -0.204354096901\n",
      "Documentary: \t\tDrama com valor de -0.0886646196149\n",
      "IMAX: \t\tComedy com valor de -0.111778434776\n",
      "War: \t\tThriller com valor de -0.0869662908458\n",
      "Musical: \t\tThriller com valor de -0.127433186298\n",
      "Western: \t\tThriller com valor de -0.0656840998463\n",
      "Film-Noir: \t\tComedy com valor de -0.0798232068741\n",
      "\n",
      "\n",
      "Filmes com menor correlação\n",
      "Adventure: \t\tMusical com valor de 0.0176860451157\n",
      "Animation: \t\tRomance com valor de -0.0135795907746\n",
      "Children: \t\tFilm-Noir com valor de -0.033094884397\n",
      "Comedy: \t\tWestern com valor de -0.0257032137251\n",
      "Fantasy: \t\tHorror com valor de 0.00439048331179\n",
      "Romance: \t\tAnimation com valor de -0.0135795907746\n",
      "Drama: \t\tMystery com valor de 0.00200995826946\n",
      "Action: \t\tFantasy com valor de -0.0278456268045\n",
      "Crime: \t\tIMAX com valor de -0.0157240925138\n",
      "Thriller: \t\tIMAX com valor de -0.0147359559427\n",
      "Horror: \t\tFantasy com valor de 0.00439048331179\n",
      "Mystery: \t\tDrama com valor de 0.00200995826946\n",
      "Sci-Fi: \t\tMystery com valor de 0.00633092187811\n",
      "Documentary: \t\tMusical com valor de 0.000541737000988\n",
      "IMAX: \t\tMystery com valor de -0.00512049789184\n",
      "War: \t\tDocumentary com valor de -0.0106052824802\n",
      "Musical: \t\tDocumentary com valor de 0.000541737000988\n",
      "Western: \t\tDrama com valor de -0.0055572963633\n",
      "Film-Noir: \t\tDocumentary com valor de -0.0124404879866\n"
     ]
    }
   ],
   "source": [
    "# Filmes com maior correlação\n",
    "print(\"Filmes com correlação POSITIVA\")\n",
    "dfMax = corr[ corr[:] == np.max(corr[corr[:] != 1]) ]\n",
    "for row in corr:\n",
    "    # Categoria corrente\n",
    "    currentCategoryName = corr.columns[corr.columns == row][0]\n",
    "    # Categoria com a maior correlação \n",
    "    correlatedCategory = dfMax[row].dropna().index[0]\n",
    "    # Correlação\n",
    "    correlation = dfMax[row].dropna()[0]\n",
    "    # Imprimi as maiores correlações entre as categorias\n",
    "    print(\"{}: \\t\\t{} com valor de {}\".format(currentCategoryName, correlatedCategory, \n",
    "                                                                                 str(correlation)))\n",
    "print(\"\\n\\nFilmes com correlação NEGATIVA\")\n",
    "dfMin = corr[ corr[:] == np.min(corr[corr[:] != 1]) ]\n",
    "for row in corr:\n",
    "    # Categoria corrente\n",
    "    currentCategoryName = corr.columns[corr.columns == row][0]\n",
    "    # Categoria com a maior correlação \n",
    "    correlatedCategory = dfMin[row].dropna().index[0]\n",
    "    # Correlação\n",
    "    correlation = dfMin[row].dropna()[0]\n",
    "    # Imprimi as maiores correlações entre as categorias\n",
    "    print(\"{}: \\t\\t{} com valor de {}\".format(currentCategoryName, correlatedCategory, \n",
    "                                                                                 str(correlation)))    \n",
    "print(\"\\n\\nFilmes com menor correlação\")\n",
    "dfMin = corr[ abs(corr[:]) == np.min(abs(corr[corr[:] != 1]))]\n",
    "for row in corr:\n",
    "    # Categoria corrente\n",
    "    currentCategoryName = corr.columns[corr.columns == row][0]\n",
    "    # Categoria com a maior correlação \n",
    "    correlatedCategory = dfMin[row].dropna().index[0]\n",
    "    # Correlação\n",
    "    correlation = dfMin[row].dropna()[0]\n",
    "    # Imprimi as maiores correlações entre as categorias\n",
    "    print(\"{}: \\t\\t{} com valor de {}\".format(currentCategoryName, correlatedCategory, \n",
    "                                                                                 str(correlation))) "
   ]
  },
  {
   "cell_type": "markdown",
   "metadata": {
    "deletable": true,
    "editable": true
   },
   "source": [
    "# Sistema de Recomendação"
   ]
  },
  {
   "cell_type": "code",
   "execution_count": 35,
   "metadata": {
    "collapsed": false
   },
   "outputs": [
    {
     "data": {
      "image/jpeg": "[encoded data removed]",
      "text/plain": [
       "<IPython.core.display.Image object>"
      ]
     },
     "execution_count": 35,
     "metadata": {},
     "output_type": "execute_result"
    }
   ],
   "source": [
    "from IPython.display import Image\n",
    "Image(filename='Overview _Sistema _Recomendação.jpg')"
   ]
  },
  {
   "cell_type": "markdown",
   "metadata": {},
   "source": [
    "## Avaliações do usuário"
   ]
  },
  {
   "cell_type": "code",
   "execution_count": 41,
   "metadata": {
    "collapsed": true
   },
   "outputs": [],
   "source": [
    "# Função que retorna os filmes para os quais um usuário já deu rating.\n",
    "# Retorna um Dataframe com (movieId, rating, userId)\n",
    "def getUserMovies(userId):\n",
    "    user_movies = dfMoviesRatingsFinal.userId == userId\n",
    "    return dfMoviesRatingsFinal[user_movies][['movieId', 'rating']].sort_values(by=['rating'], ascending=False)"
   ]
  },
  {
   "cell_type": "code",
   "execution_count": 53,
   "metadata": {
    "collapsed": true
   },
   "outputs": [],
   "source": [
    "idtest = 6\n",
    "usersMovies = getUserMovies(idtest)"
   ]
  },
  {
   "cell_type": "code",
   "execution_count": 54,
   "metadata": {
    "collapsed": false
   },
   "outputs": [
    {
     "data": {
      "text/html": [
       "<div>\n",
       "<table border=\"1\" class=\"dataframe\">\n",
       "  <thead>\n",
       "    <tr style=\"text-align: right;\">\n",
       "      <th></th>\n",
       "      <th>movieId</th>\n",
       "      <th>rating</th>\n",
       "    </tr>\n",
       "  </thead>\n",
       "  <tbody>\n",
       "    <tr>\n",
       "      <th>8510</th>\n",
       "      <td>293</td>\n",
       "      <td>10.0</td>\n",
       "    </tr>\n",
       "    <tr>\n",
       "      <th>75865</th>\n",
       "      <td>5952</td>\n",
       "      <td>10.0</td>\n",
       "    </tr>\n",
       "    <tr>\n",
       "      <th>79919</th>\n",
       "      <td>7153</td>\n",
       "      <td>10.0</td>\n",
       "    </tr>\n",
       "    <tr>\n",
       "      <th>29140</th>\n",
       "      <td>1204</td>\n",
       "      <td>10.0</td>\n",
       "    </tr>\n",
       "    <tr>\n",
       "      <th>82767</th>\n",
       "      <td>8874</td>\n",
       "      <td>9.0</td>\n",
       "    </tr>\n",
       "  </tbody>\n",
       "</table>\n",
       "</div>"
      ],
      "text/plain": [
       "       movieId  rating\n",
       "8510       293    10.0\n",
       "75865     5952    10.0\n",
       "79919     7153    10.0\n",
       "29140     1204    10.0\n",
       "82767     8874     9.0"
      ]
     },
     "execution_count": 54,
     "metadata": {},
     "output_type": "execute_result"
    }
   ],
   "source": [
    "# Preview do dataframe retornado na função\n",
    "usersMovies.head()"
   ]
  },
  {
   "cell_type": "markdown",
   "metadata": {},
   "source": [
    "## Categorias dos filmes que tiveram os maiores ratings"
   ]
  },
  {
   "cell_type": "code",
   "execution_count": 55,
   "metadata": {
    "collapsed": true
   },
   "outputs": [],
   "source": [
    "# Função recebe um vetor com os ids dos filmes\n",
    "# Retorna uma lista com as categorias dos filmes passados\n",
    "def getCategories(moviesId):\n",
    "    # Obtem as categorias com os maiores ratings\n",
    "    uniqueCategories = []\n",
    "    for idMov in moviesId:\n",
    "        cat = dfMovies[dfMovies.movieId == idMov].genres\n",
    "        categories = cat.str.split(pat=\"|\", expand=True).values\n",
    "        for categorie in categories[0]:\n",
    "            uniqueCategories.append(categorie)\n",
    "        \n",
    "    return np.unique(uniqueCategories)"
   ]
  },
  {
   "cell_type": "code",
   "execution_count": 65,
   "metadata": {
    "collapsed": true
   },
   "outputs": [],
   "source": [
    "# Função que retorna as categorias dos maiores e menores ratings dados pelo usuário\n",
    "# Retorna a lista das categorias para ass quais o usuário deu o maior rating\n",
    "def getBestCategories(usersMovies):\n",
    "    # Obtem maior e menor rating dado pelo usuário\n",
    "    maxRating = np.max(usersMovies.rating.values)\n",
    "    minRating = np.min(usersMovies.rating.values)\n",
    "    \n",
    "    # Ids dos filmes com os maiores ratings\n",
    "    hightestRatingIds = usersMovies[usersMovies.rating == maxRating].movieId.values\n",
    "    # Categorias com os maiores ratings\n",
    "    highestRatingCategories = getCategories(hightestRatingIds)\n",
    "\n",
    "    # Ids dos filmes com os menores ratings\n",
    "    lowestRatingIds = usersMovies[usersMovies.rating == minRating].movieId.values\n",
    "    # Categorias com os menores ratings\n",
    "    lowestRatingCategories = getCategories(lowestRatingIds)\n",
    "\n",
    "    # Obtem as categorias com o maior rating, excluindo as categorias que aparecem entre os menores ratings\n",
    "    categories = list(set(highestRatingCategories) - set(lowestRatingCategories))\n",
    "\n",
    "    return categories"
   ]
  },
  {
   "cell_type": "code",
   "execution_count": 66,
   "metadata": {
    "collapsed": true
   },
   "outputs": [],
   "source": [
    "bestCategories = getBestCategories(usersMovies)"
   ]
  },
  {
   "cell_type": "code",
   "execution_count": 67,
   "metadata": {
    "collapsed": false
   },
   "outputs": [
    {
     "data": {
      "text/plain": [
       "['Adventure', 'Action', 'War', 'Crime', 'Fantasy']"
      ]
     },
     "execution_count": 67,
     "metadata": {},
     "output_type": "execute_result"
    }
   ],
   "source": [
    "bestCategories"
   ]
  },
  {
   "cell_type": "markdown",
   "metadata": {},
   "source": [
    "## Filmes do dataset com base na correlação entre as categorias"
   ]
  },
  {
   "cell_type": "markdown",
   "metadata": {},
   "source": [
    "#### Extrai a correlação entre as categorias"
   ]
  },
  {
   "cell_type": "code",
   "execution_count": 72,
   "metadata": {
    "collapsed": true
   },
   "outputs": [],
   "source": [
    "# Função que busca as categorias com as maiores e menores correlações\n",
    "# Retorna duas listas ordenadas com: (categoria, categoria correlata, medida de correlação)\n",
    "def getMostCorrelatedCategories(bestCategories):\n",
    "    # Calcula a matriz de correlação entre as categorias\n",
    "    corr = dfMoviesRatingsFinal.drop(['movieId', 'rating', 'NumberRatings', 'userId'],1).corr()\n",
    "    corr[corr == 1] = None\n",
    "    dfMoviesRatingsFinal\n",
    "    \n",
    "    # Obtem as colunas referentes as categorias\n",
    "    bestCategoriesColumns = corr[bestCategories]\n",
    "    # Busca as maiores correlações entre as categorias\n",
    "    mostCorrelatedCategories = []\n",
    "    for col in bestCategories:\n",
    "        mostCorrelatedCategories.append([col, bestCategoriesColumns[col].idxmax(), \n",
    "                                         bestCategoriesColumns[col].max()])\n",
    "    # Busca as maiores correlações entre as categorias\n",
    "    lessCorrelatedCategories = []\n",
    "    for col in bestCategories:\n",
    "        lessCorrelatedCategories.append([col, bestCategoriesColumns[col].idxmin(), \n",
    "                                         bestCategoriesColumns[col].min()])\n",
    "    # Ordena o resultado\n",
    "    mostCorrelatedCategories = sorted(mostCorrelatedCategories, key=lambda tup: abs(tup[2]), reverse=True) \n",
    "    lessCorrelatedCategories = sorted(lessCorrelatedCategories, key=lambda tup: abs(tup[2]), reverse=True) \n",
    "    \n",
    "    return mostCorrelatedCategories, lessCorrelatedCategories"
   ]
  },
  {
   "cell_type": "code",
   "execution_count": 73,
   "metadata": {
    "collapsed": false,
    "scrolled": true
   },
   "outputs": [
    {
     "name": "stdout",
     "output_type": "stream",
     "text": [
      "[['Adventure', 'Action', 0.3327234317761531], ['Action', 'Adventure', 0.3327234317761531], ['Fantasy', 'Children', 0.32842691235204413], ['Crime', 'Thriller', 0.29438304868953202], ['War', 'Drama', 0.17942529602249774]]\n",
      "[['Adventure', 'Drama', -0.27022273140736541], ['Action', 'Drama', -0.24945009079411273], ['Crime', 'Adventure', -0.17563640255880617], ['Fantasy', 'Drama', -0.15625741703470586], ['War', 'Thriller', -0.086966290845840774]]\n"
     ]
    }
   ],
   "source": [
    "mostCorrelatedCategories, lessCorrelatedCategories = getMostCorrelatedCategories(bestCategories)"
   ]
  },
  {
   "cell_type": "code",
   "execution_count": 79,
   "metadata": {
    "collapsed": false,
    "scrolled": true
   },
   "outputs": [
    {
     "name": "stdout",
     "output_type": "stream",
     "text": [
      "Categorias com as maiores correlações: [['Adventure', 'Action', 0.3327234317761531], ['Action', 'Adventure', 0.3327234317761531], ['Fantasy', 'Children', 0.32842691235204413], ['Crime', 'Thriller', 0.29438304868953202], ['War', 'Drama', 0.17942529602249774]]\n",
      "\n",
      "Categorias com as menores correlações: [['Adventure', 'Drama', -0.27022273140736541], ['Action', 'Drama', -0.24945009079411273], ['Crime', 'Adventure', -0.17563640255880617], ['Fantasy', 'Drama', -0.15625741703470586], ['War', 'Thriller', -0.086966290845840774]]\n"
     ]
    }
   ],
   "source": [
    "print(\"Categorias com as maiores correlações: {}\".format(mostCorrelatedCategories))\n",
    "print(\"\\nCategorias com as menores correlações: {}\".format(lessCorrelatedCategories))"
   ]
  },
  {
   "cell_type": "markdown",
   "metadata": {},
   "source": [
    "#### Extrai o conjunto de filmes com base nas correlações entre as categorias"
   ]
  },
  {
   "cell_type": "code",
   "execution_count": 88,
   "metadata": {
    "collapsed": true
   },
   "outputs": [],
   "source": [
    "# Função que recebe duas listas com as categorias mais correlacionadas e a menos correlacionadas\n",
    "# Retorna uma lista de filmes extraídos do dataset  \n",
    "def getListOfMovies(mostCorrelatedCategories, lessCorrelatedCategories):\n",
    "    # Para cada par de categorias correlacionadas\n",
    "    listMovies = []\n",
    "    for corrCategories in mostCorrelatedCategories:\n",
    "        catA = corrCategories[0]\n",
    "        catB = corrCategories[1]\n",
    "        if( len(listMovies) == 0 ):\n",
    "            a = np.unique(dfMoviesRatingsFinal[dfMoviesRatingsFinal[catA] == 1].movieId.values)\n",
    "            b = np.unique(dfMoviesRatingsFinal[dfMoviesRatingsFinal[catB] == 1].movieId.values)\n",
    "            listMovies = np.intersect1d(a, b)\n",
    "        else:\n",
    "            b = np.unique(dfMoviesRatingsFinal[dfMoviesRatingsFinal[catB] == 1].movieId.values)\n",
    "            # Previne que a função retorne menos de 100 filmes para um determinado usuário\n",
    "            if(len(np.intersect1d(listMovies, b)) < 250):\n",
    "                break;\n",
    "            else:\n",
    "                listMovies = np.intersect1d(listMovies, b)\n",
    "    \n",
    "    # Remove os filmes das categorias com as correlações negativas\n",
    "    for corrCategories in lessCorrelatedCategories:\n",
    "        catB = corrCategories[1]\n",
    "\n",
    "        b = np.unique(dfMoviesRatingsFinal[dfMoviesRatingsFinal[catB] == 1].movieId.values)\n",
    "        # Previne que a função retorne menos de 250 filmes para um determinado usuário\n",
    "        if(len(set(listMovies) - set(b)) < 250):\n",
    "            continue;\n",
    "        else:\n",
    "            listMovies = set(listMovies) - set(b)  \n",
    "    \n",
    "    return listMovies"
   ]
  },
  {
   "cell_type": "code",
   "execution_count": 89,
   "metadata": {
    "collapsed": true
   },
   "outputs": [],
   "source": [
    "listOfMovies = getListOfMovies(mostCorrelatedCategories, lessCorrelatedCategories)"
   ]
  },
  {
   "cell_type": "code",
   "execution_count": 90,
   "metadata": {
    "collapsed": false
   },
   "outputs": [
    {
     "data": {
      "text/plain": [
       "{10,\n",
       " 15,\n",
       " 44,\n",
       " 95,\n",
       " 112,\n",
       " 153,\n",
       " 160,\n",
       " 170,\n",
       " 208,\n",
       " 260,\n",
       " 316,\n",
       " 380,\n",
       " 393,\n",
       " 434,\n",
       " 442,\n",
       " 464,\n",
       " 480,\n",
       " 485,\n",
       " 494,\n",
       " 533,\n",
       " 546,\n",
       " 547,\n",
       " 552,\n",
       " 558,\n",
       " 610,\n",
       " 648,\n",
       " 653,\n",
       " 688,\n",
       " 704,\n",
       " 733,\n",
       " 736,\n",
       " 761,\n",
       " 780,\n",
       " 809,\n",
       " 836,\n",
       " 849,\n",
       " 908,\n",
       " 940,\n",
       " 1049,\n",
       " 1127,\n",
       " 1129,\n",
       " 1196,\n",
       " 1197,\n",
       " 1198,\n",
       " 1200,\n",
       " 1201,\n",
       " 1210,\n",
       " 1215,\n",
       " 1274,\n",
       " 1275,\n",
       " 1291,\n",
       " 1356,\n",
       " 1370,\n",
       " 1374,\n",
       " 1375,\n",
       " 1429,\n",
       " 1495,\n",
       " 1499,\n",
       " 1517,\n",
       " 1525,\n",
       " 1527,\n",
       " 1544,\n",
       " 1552,\n",
       " 1562,\n",
       " 1587,\n",
       " 1591,\n",
       " 1606,\n",
       " 1610,\n",
       " 1681,\n",
       " 1722,\n",
       " 1744,\n",
       " 1831,\n",
       " 2005,\n",
       " 2041,\n",
       " 2094,\n",
       " 2105,\n",
       " 2115,\n",
       " 2153,\n",
       " 2193,\n",
       " 2275,\n",
       " 2366,\n",
       " 2373,\n",
       " 2376,\n",
       " 2402,\n",
       " 2404,\n",
       " 2405,\n",
       " 2406,\n",
       " 2414,\n",
       " 2471,\n",
       " 2528,\n",
       " 2617,\n",
       " 2628,\n",
       " 2640,\n",
       " 2642,\n",
       " 2643,\n",
       " 2683,\n",
       " 2720,\n",
       " 2735,\n",
       " 2748,\n",
       " 2826,\n",
       " 2879,\n",
       " 2916,\n",
       " 2947,\n",
       " 2948,\n",
       " 2949,\n",
       " 2989,\n",
       " 2990,\n",
       " 2991,\n",
       " 2993,\n",
       " 3030,\n",
       " 3082,\n",
       " 3153,\n",
       " 3440,\n",
       " 3623,\n",
       " 3624,\n",
       " 3633,\n",
       " 3635,\n",
       " 3638,\n",
       " 3639,\n",
       " 3702,\n",
       " 3703,\n",
       " 3704,\n",
       " 3740,\n",
       " 3745,\n",
       " 3771,\n",
       " 3793,\n",
       " 3827,\n",
       " 3864,\n",
       " 3877,\n",
       " 3889,\n",
       " 3959,\n",
       " 3984,\n",
       " 3997,\n",
       " 3999,\n",
       " 4005,\n",
       " 4121,\n",
       " 4133,\n",
       " 4232,\n",
       " 4270,\n",
       " 4275,\n",
       " 4367,\n",
       " 4566,\n",
       " 4638,\n",
       " 4799,\n",
       " 4915,\n",
       " 4941,\n",
       " 5040,\n",
       " 5171,\n",
       " 5313,\n",
       " 5349,\n",
       " 5378,\n",
       " 5463,\n",
       " 5523,\n",
       " 5540,\n",
       " 5700,\n",
       " 5796,\n",
       " 5803,\n",
       " 5872,\n",
       " 5880,\n",
       " 6156,\n",
       " 6294,\n",
       " 6333,\n",
       " 6350,\n",
       " 6365,\n",
       " 6503,\n",
       " 6534,\n",
       " 6537,\n",
       " 6539,\n",
       " 6564,\n",
       " 6566,\n",
       " 6664,\n",
       " 6709,\n",
       " 6764,\n",
       " 6808,\n",
       " 6857,\n",
       " 6934,\n",
       " 6959,\n",
       " 7000,\n",
       " 7070,\n",
       " 7164,\n",
       " 7369,\n",
       " 7373,\n",
       " 7394,\n",
       " 7454,\n",
       " 7569,\n",
       " 7570,\n",
       " 7573,\n",
       " 7720,\n",
       " 7757,\n",
       " 7802,\n",
       " 7925,\n",
       " 8167,\n",
       " 8253,\n",
       " 8633,\n",
       " 8636,\n",
       " 8644,\n",
       " 8865,\n",
       " 8917,\n",
       " 8961,\n",
       " 8968,\n",
       " 26152,\n",
       " 27032,\n",
       " 31923,\n",
       " 32596,\n",
       " 32898,\n",
       " 33493,\n",
       " 33679,\n",
       " 33681,\n",
       " 34048,\n",
       " 34150,\n",
       " 34332,\n",
       " 34334,\n",
       " 34405,\n",
       " 34520,\n",
       " 37830,\n",
       " 37853,\n",
       " 40339,\n",
       " 40851,\n",
       " 45186,\n",
       " 45722,\n",
       " 46530,\n",
       " 49272,\n",
       " 49649,\n",
       " 51277,\n",
       " 52287,\n",
       " 52462,\n",
       " 52722,\n",
       " 53125,\n",
       " 53464,\n",
       " 53519,\n",
       " 53972,\n",
       " 55167,\n",
       " 55995,\n",
       " 56775,\n",
       " 57326,\n",
       " 57640,\n",
       " 59103,\n",
       " 59315,\n",
       " 59615,\n",
       " 60074,\n",
       " 60514,\n",
       " 60937,\n",
       " 61132,\n",
       " 61160,\n",
       " 61248,\n",
       " 61350,\n",
       " 62956,\n",
       " 62999,\n",
       " 63113,\n",
       " 63859,\n",
       " 64030,\n",
       " 65982,\n",
       " 68358,\n",
       " 68791,\n",
       " 69275,\n",
       " 69278,\n",
       " 69524,\n",
       " 69526,\n",
       " 69644,\n",
       " 69805,\n",
       " 70336,\n",
       " 70697,\n",
       " 72165,\n",
       " 72998,\n",
       " 77561,\n",
       " 78105,\n",
       " 78893,\n",
       " 79139,\n",
       " 79695,\n",
       " 80219,\n",
       " 81834,\n",
       " 82461,\n",
       " 84944,\n",
       " 85796,\n",
       " 86190,\n",
       " 86880,\n",
       " 87222,\n",
       " 87232,\n",
       " 87430,\n",
       " 87520,\n",
       " 87529,\n",
       " 88140,\n",
       " 89745,\n",
       " 91485,\n",
       " 91529,\n",
       " 91542,\n",
       " 91630,\n",
       " 93363,\n",
       " 93766,\n",
       " 95167,\n",
       " 95510,\n",
       " 96079,\n",
       " 101076,\n",
       " 101112,\n",
       " 101577,\n",
       " 101864,\n",
       " 102445,\n",
       " 102880,\n",
       " 103042,\n",
       " 103228,\n",
       " 103384,\n",
       " 103772,\n",
       " 106002,\n",
       " 106072,\n",
       " 106487,\n",
       " 106491,\n",
       " 108932,\n",
       " 108979,\n",
       " 110102,\n",
       " 111362,\n",
       " 111364,\n",
       " 111659,\n",
       " 111781,\n",
       " 112175,\n",
       " 112370,\n",
       " 112852,\n",
       " 112911,\n",
       " 113345,\n",
       " 113348,\n",
       " 119145,\n",
       " 120799,\n",
       " 122882,\n",
       " 122886,\n",
       " 122890,\n",
       " 122892,\n",
       " 122900,\n",
       " 122902,\n",
       " 122904,\n",
       " 122924,\n",
       " 132046,\n",
       " 135567,\n",
       " 135569,\n",
       " 136020,\n",
       " 136864,\n",
       " 138036,\n",
       " 149406,\n",
       " 152081,\n",
       " 160563}"
      ]
     },
     "execution_count": 90,
     "metadata": {},
     "output_type": "execute_result"
    }
   ],
   "source": [
    "listOfMovies"
   ]
  },
  {
   "cell_type": "markdown",
   "metadata": {},
   "source": [
    "## Recomendação dos Filmes"
   ]
  },
  {
   "cell_type": "code",
   "execution_count": null,
   "metadata": {
    "collapsed": true
   },
   "outputs": [],
   "source": []
  }
 ],
 "metadata": {
  "kernelspec": {
   "display_name": "Python 3",
   "language": "python",
   "name": "python3"
  },
  "language_info": {
   "codemirror_mode": {
    "name": "ipython",
    "version": 3
   },
   "file_extension": ".py",
   "mimetype": "text/x-python",
   "name": "python",
   "nbconvert_exporter": "python",
   "pygments_lexer": "ipython3",
   "version": "3.5.3"
  }
 },
 "nbformat": 4,
 "nbformat_minor": 2
}
