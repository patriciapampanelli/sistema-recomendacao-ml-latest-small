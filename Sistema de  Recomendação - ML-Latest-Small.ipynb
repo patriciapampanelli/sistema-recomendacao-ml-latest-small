{
 "cells": [
  {
   "cell_type": "markdown",
   "metadata": {
    "deletable": true,
    "editable": true
   },
   "source": [
    "# Exploração dos Dados"
   ]
  },
  {
   "cell_type": "markdown",
   "metadata": {
    "deletable": true,
    "editable": true
   },
   "source": [
    "## Carregando o dataset\n",
    "\n",
    "http://files.grouplens.org/datasets/movielens/ml-latest-small.zip"
   ]
  },
  {
   "cell_type": "code",
   "execution_count": 34,
   "metadata": {
    "collapsed": false,
    "deletable": true,
    "editable": true
   },
   "outputs": [],
   "source": [
    "# Pacotes importantes para este projeto\n",
    "import numpy as np\n",
    "import pandas as pd\n",
    "from time import time\n",
    "import seaborn as sns\n",
    "%matplotlib inline "
   ]
  },
  {
   "cell_type": "code",
   "execution_count": 4,
   "metadata": {
    "collapsed": false,
    "deletable": true,
    "editable": true
   },
   "outputs": [
    {
     "name": "stdout",
     "output_type": "stream",
     "text": [
      "Movies:\n",
      "   movieId                               title  \\\n",
      "0        1                    Toy Story (1995)   \n",
      "1        2                      Jumanji (1995)   \n",
      "2        3             Grumpier Old Men (1995)   \n",
      "3        4            Waiting to Exhale (1995)   \n",
      "4        5  Father of the Bride Part II (1995)   \n",
      "\n",
      "                                        genres  \n",
      "0  Adventure|Animation|Children|Comedy|Fantasy  \n",
      "1                   Adventure|Children|Fantasy  \n",
      "2                               Comedy|Romance  \n",
      "3                         Comedy|Drama|Romance  \n",
      "4                                       Comedy  \n",
      "Ratings:\n",
      "   userId  movieId  rating   timestamp\n",
      "0       1       31     2.5  1260759144\n",
      "1       1     1029     3.0  1260759179\n",
      "2       1     1061     3.0  1260759182\n",
      "3       1     1129     2.0  1260759185\n",
      "4       1     1172     4.0  1260759205\n",
      "Tags:\n",
      "   userId  movieId                      tag   timestamp\n",
      "0      15      339  sandra 'boring' bullock  1138537770\n",
      "1      15     1955                  dentist  1193435061\n",
      "2      15     7478                 Cambodia  1170560997\n",
      "3      15    32892                  Russian  1170626366\n",
      "4      15    34162              forgettable  1141391765\n",
      "Links:\n"
     ]
    },
    {
     "data": {
      "text/html": [
       "<div>\n",
       "<table border=\"1\" class=\"dataframe\">\n",
       "  <thead>\n",
       "    <tr style=\"text-align: right;\">\n",
       "      <th></th>\n",
       "      <th>movieId</th>\n",
       "      <th>title</th>\n",
       "      <th>genres</th>\n",
       "      <th>userId</th>\n",
       "      <th>rating</th>\n",
       "      <th>timestamp</th>\n",
       "    </tr>\n",
       "  </thead>\n",
       "  <tbody>\n",
       "    <tr>\n",
       "      <th>0</th>\n",
       "      <td>1</td>\n",
       "      <td>Toy Story (1995)</td>\n",
       "      <td>Adventure|Animation|Children|Comedy|Fantasy</td>\n",
       "      <td>7</td>\n",
       "      <td>3.0</td>\n",
       "      <td>851866703</td>\n",
       "    </tr>\n",
       "    <tr>\n",
       "      <th>1</th>\n",
       "      <td>1</td>\n",
       "      <td>Toy Story (1995)</td>\n",
       "      <td>Adventure|Animation|Children|Comedy|Fantasy</td>\n",
       "      <td>9</td>\n",
       "      <td>4.0</td>\n",
       "      <td>938629179</td>\n",
       "    </tr>\n",
       "    <tr>\n",
       "      <th>2</th>\n",
       "      <td>1</td>\n",
       "      <td>Toy Story (1995)</td>\n",
       "      <td>Adventure|Animation|Children|Comedy|Fantasy</td>\n",
       "      <td>13</td>\n",
       "      <td>5.0</td>\n",
       "      <td>1331380058</td>\n",
       "    </tr>\n",
       "    <tr>\n",
       "      <th>3</th>\n",
       "      <td>1</td>\n",
       "      <td>Toy Story (1995)</td>\n",
       "      <td>Adventure|Animation|Children|Comedy|Fantasy</td>\n",
       "      <td>15</td>\n",
       "      <td>2.0</td>\n",
       "      <td>997938310</td>\n",
       "    </tr>\n",
       "    <tr>\n",
       "      <th>4</th>\n",
       "      <td>1</td>\n",
       "      <td>Toy Story (1995)</td>\n",
       "      <td>Adventure|Animation|Children|Comedy|Fantasy</td>\n",
       "      <td>19</td>\n",
       "      <td>3.0</td>\n",
       "      <td>855190091</td>\n",
       "    </tr>\n",
       "  </tbody>\n",
       "</table>\n",
       "</div>"
      ],
      "text/plain": [
       "   movieId             title                                       genres  \\\n",
       "0        1  Toy Story (1995)  Adventure|Animation|Children|Comedy|Fantasy   \n",
       "1        1  Toy Story (1995)  Adventure|Animation|Children|Comedy|Fantasy   \n",
       "2        1  Toy Story (1995)  Adventure|Animation|Children|Comedy|Fantasy   \n",
       "3        1  Toy Story (1995)  Adventure|Animation|Children|Comedy|Fantasy   \n",
       "4        1  Toy Story (1995)  Adventure|Animation|Children|Comedy|Fantasy   \n",
       "\n",
       "   userId  rating   timestamp  \n",
       "0       7     3.0   851866703  \n",
       "1       9     4.0   938629179  \n",
       "2      13     5.0  1331380058  \n",
       "3      15     2.0   997938310  \n",
       "4      19     3.0   855190091  "
      ]
     },
     "execution_count": 4,
     "metadata": {},
     "output_type": "execute_result"
    }
   ],
   "source": [
    "dfMovies = pd.read_csv(\"./ml-latest-small/movies.csv\")\n",
    "dfRatings = pd.read_csv(\"./ml-latest-small/ratings.csv\")\n",
    "dfTags = pd.read_csv(\"./ml-latest-small/tags.csv\")\n",
    "dfLinks = pd.read_csv(\"./ml-latest-small/links.csv\")\n",
    "\n",
    "print(\"Movies:\")\n",
    "print(dfMovies.head())\n",
    "print(\"Ratings:\")\n",
    "print(dfRatings.head())\n",
    "print(\"Tags:\")\n",
    "print(dfTags.head())\n",
    "print(\"Links:\")\n",
    "dfLinks.head()\n",
    "\n",
    "# Faz o merge do dataset utilizando os id's dos filmes como chave\n",
    "result = pd.merge(dfMovies, dfRatings, on=['movieId'])\n",
    "result.head()"
   ]
  },
  {
   "cell_type": "markdown",
   "metadata": {
    "deletable": true,
    "editable": true
   },
   "source": [
    "## Pré-processando os dados"
   ]
  },
  {
   "cell_type": "markdown",
   "metadata": {
    "deletable": true,
    "editable": true
   },
   "source": [
    "### Dados nulos ou faltantes"
   ]
  },
  {
   "cell_type": "code",
   "execution_count": null,
   "metadata": {
    "collapsed": false,
    "deletable": true,
    "editable": true
   },
   "outputs": [],
   "source": [
    "print(\"Movies - Null values: {}\".format(dfMovies.isnull().any().any()))\n",
    "print(\"Ratings - Null values: {}\".format(dfRatings.isnull().any().any()))\n",
    "print(\"Tags - Null values: {}\".format(dfTags.isnull().any().any()))\n",
    "print(\"Links - Null values: {}\".format(dfLinks.isnull().any().any()))"
   ]
  },
  {
   "cell_type": "markdown",
   "metadata": {
    "deletable": true,
    "editable": true
   },
   "source": [
    "### Análise e processamento das categorias\n",
    "\n",
    "    Nesta etapa estou verificando quais as categorias que são encontradas no dataset:\n",
    "    - categorias repetidas;\n",
    "    - itens que não correspondem às categorias;"
   ]
  },
  {
   "cell_type": "code",
   "execution_count": null,
   "metadata": {
    "collapsed": false,
    "deletable": true,
    "editable": true,
    "scrolled": true
   },
   "outputs": [],
   "source": [
    "categoriesData = dfMovies.genres.str.split('|', 10, expand=True)\n",
    "categories = []\n",
    "for col in categoriesData:\n",
    "     categories.append(categoriesData[col].unique())\n",
    "    \n",
    "categories\n",
    "print(categories[:])"
   ]
  },
  {
   "cell_type": "markdown",
   "metadata": {
    "collapsed": false,
    "deletable": true,
    "editable": true
   },
   "source": [
    "### Tags\n",
    "\n",
    "    - Avaliar os tags mais comuns;\n",
    "    - Existe relação das tags com as avaliações? Palavras positivas e negativas?"
   ]
  },
  {
   "cell_type": "markdown",
   "metadata": {
    "collapsed": true,
    "deletable": true,
    "editable": true
   },
   "source": [
    "### Análise e processamento dos nomes dos filmes\n",
    "\n",
    "    - Avaliar se existem nomes de um mesmo filme com escritas diferentes;\n",
    "    - "
   ]
  },
  {
   "cell_type": "markdown",
   "metadata": {
    "deletable": true,
    "editable": true
   },
   "source": [
    "### Análise e processamentos dos ratings\n",
    "\n",
    "    - Normalizar os valores;\n",
    "    - Verificar a existência de outliers;\n",
    "    - Verificar se a distribuição dos ratings é uniforme entre os filmes;"
   ]
  },
  {
   "cell_type": "code",
   "execution_count": 33,
   "metadata": {
    "collapsed": false,
    "deletable": true,
    "editable": true,
    "scrolled": true
   },
   "outputs": [
    {
     "name": "stdout",
     "output_type": "stream",
     "text": [
      "356       341\n",
      "296       324\n",
      "318       311\n",
      "593       304\n",
      "260       291\n",
      "480       274\n",
      "2571      259\n",
      "1         247\n",
      "527       244\n",
      "589       237\n",
      "1196      234\n",
      "110       228\n",
      "1270      226\n",
      "608       224\n",
      "2858      220\n",
      "1198      220\n",
      "780       218\n",
      "1210      217\n",
      "588       215\n",
      "457       213\n",
      "590       202\n",
      "2959      202\n",
      "47        201\n",
      "50        201\n",
      "4993      200\n",
      "364       200\n",
      "858       200\n",
      "150       200\n",
      "380       198\n",
      "32        196\n",
      "         ... \n",
      "6109        1\n",
      "120805      1\n",
      "96          1\n",
      "6243        1\n",
      "104595      1\n",
      "27922       1\n",
      "133281      1\n",
      "155820      1\n",
      "26797       1\n",
      "47287       1\n",
      "8420        1\n",
      "134246      1\n",
      "5981        1\n",
      "61250       1\n",
      "3870        1\n",
      "5917        1\n",
      "1759        1\n",
      "26323       1\n",
      "32464       1\n",
      "65216       1\n",
      "65088       1\n",
      "73276       1\n",
      "7708        1\n",
      "69118       1\n",
      "110058      1\n",
      "140763      1\n",
      "48520       1\n",
      "111913      1\n",
      "1311        1\n",
      "2049        1\n",
      "dtype: int64\n"
     ]
    }
   ],
   "source": [
    "number_of_ratings_per_movie = pd.value_counts(result['movieId'].values, sort=False)\n",
    "type(number_of_ratings_per_movie)\n",
    "\n",
    "print(number_of_ratings_per_movie.sort_values(ascending=False, na_position='first'))"
   ]
  },
  {
   "cell_type": "markdown",
   "metadata": {
    "deletable": true,
    "editable": true
   },
   "source": [
    "## Conclusões\n",
    "\n",
    "- Quais são as categorias que possuem relação entre si? \n",
    "- Existe alguma relação entre a categoria do filme e a forma que ele é avaliado?\n"
   ]
  },
  {
   "cell_type": "markdown",
   "metadata": {
    "deletable": true,
    "editable": true
   },
   "source": [
    "# Sistema de Recomendação\n",
    "\n",
    "Idéias:\n",
    "- Redução de dimensionalidade: utilizar auto-encoder ou PCA para reduzir número de features\n",
    "- Clusterização para recomendações"
   ]
  },
  {
   "cell_type": "code",
   "execution_count": null,
   "metadata": {
    "collapsed": true,
    "deletable": true,
    "editable": true
   },
   "outputs": [],
   "source": []
  }
 ],
 "metadata": {
  "kernelspec": {
   "display_name": "Python 3",
   "language": "python",
   "name": "python3"
  },
  "language_info": {
   "codemirror_mode": {
    "name": "ipython",
    "version": 3
   },
   "file_extension": ".py",
   "mimetype": "text/x-python",
   "name": "python",
   "nbconvert_exporter": "python",
   "pygments_lexer": "ipython3",
   "version": "3.5.3"
  }
 },
 "nbformat": 4,
 "nbformat_minor": 2
}
