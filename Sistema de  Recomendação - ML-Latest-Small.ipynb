{
 "cells": [
  {
   "cell_type": "markdown",
   "metadata": {
    "deletable": true,
    "editable": true
   },
   "source": [
    "# Exploração dos Dados"
   ]
  },
  {
   "cell_type": "markdown",
   "metadata": {
    "deletable": true,
    "editable": true
   },
   "source": [
    "## Carregando o dataset\n",
    "\n",
    "http://files.grouplens.org/datasets/movielens/ml-latest-small.zip"
   ]
  },
  {
   "cell_type": "code",
   "execution_count": 59,
   "metadata": {
    "collapsed": false,
    "deletable": true,
    "editable": true
   },
   "outputs": [],
   "source": [
    "# Pacotes importantes para este projeto\n",
    "import numpy as np\n",
    "import pandas as pd\n",
    "from time import time\n",
    "import seaborn as sns\n",
    "from pandas import Series\n",
    "import matplotlib.pyplot as plt\n",
    "%matplotlib inline "
   ]
  },
  {
   "cell_type": "code",
   "execution_count": 3,
   "metadata": {
    "collapsed": false,
    "deletable": true,
    "editable": true,
    "scrolled": true
   },
   "outputs": [],
   "source": [
    "dfMovies = pd.read_csv(\"./ml-latest-small/movies.csv\")\n",
    "dfRatings = pd.read_csv(\"./ml-latest-small/ratings.csv\")\n",
    "dfTags = pd.read_csv(\"./ml-latest-small/tags.csv\")\n",
    "dfLinks = pd.read_csv(\"./ml-latest-small/links.csv\")\n",
    "\n",
    "# print(\"Movies:\")\n",
    "# print(dfMovies.head())\n",
    "# print(\"Ratings:\")\n",
    "# print(dfRatings.head())\n",
    "# print(\"Tags:\")\n",
    "# print(dfTags.head())\n",
    "# print(\"Links:\")\n",
    "# print(dfLinks.head())\n",
    "\n",
    "# Faz o merge do dataset utilizando os id's dos filmes como chave\n",
    "dfMoviesRatings = pd.merge(dfMovies, dfRatings, on=['movieId'])"
   ]
  },
  {
   "cell_type": "markdown",
   "metadata": {
    "deletable": true,
    "editable": true
   },
   "source": [
    "## Pré-processando os dados"
   ]
  },
  {
   "cell_type": "code",
   "execution_count": 4,
   "metadata": {
    "collapsed": false,
    "scrolled": true
   },
   "outputs": [
    {
     "name": "stdout",
     "output_type": "stream",
     "text": [
      "   movieId                                       genres  rating\n",
      "0        1  Adventure|Animation|Children|Comedy|Fantasy     3.0\n",
      "1        1  Adventure|Animation|Children|Comedy|Fantasy     4.0\n",
      "2        1  Adventure|Animation|Children|Comedy|Fantasy     5.0\n",
      "3        1  Adventure|Animation|Children|Comedy|Fantasy     2.0\n",
      "4        1  Adventure|Animation|Children|Comedy|Fantasy     3.0\n"
     ]
    }
   ],
   "source": [
    "# Separando os filmes e os títulos\n",
    "moviesTitles = dfMoviesRatings[['movieId', 'title']]\n",
    "moviesTitles = moviesTitles.set_index('movieId')\n",
    "moviesTitles = moviesTitles.drop_duplicates()\n",
    "moviesTitles.head()\n",
    "\n",
    "# Remove colunas que não serão utilizadas no treinamento do sistema de recomendação\n",
    "dfMoviesRatings = dfMoviesRatings.drop(['timestamp', 'userId', 'title'], 1)\n",
    "print(dfMoviesRatings.head())"
   ]
  },
  {
   "cell_type": "markdown",
   "metadata": {
    "deletable": true,
    "editable": true
   },
   "source": [
    "### Dados nulos ou faltantes"
   ]
  },
  {
   "cell_type": "code",
   "execution_count": 5,
   "metadata": {
    "collapsed": false,
    "deletable": true,
    "editable": true
   },
   "outputs": [
    {
     "name": "stdout",
     "output_type": "stream",
     "text": [
      "Movies - Null values: False\n",
      "Ratings - Null values: False\n",
      "Tags - Null values: False\n",
      "Links - Null values: True\n"
     ]
    }
   ],
   "source": [
    "print(\"Movies - Null values: {}\".format(dfMovies.isnull().any().any()))\n",
    "print(\"Ratings - Null values: {}\".format(dfRatings.isnull().any().any()))\n",
    "print(\"Tags - Null values: {}\".format(dfTags.isnull().any().any()))\n",
    "print(\"Links - Null values: {}\".format(dfLinks.isnull().any().any()))"
   ]
  },
  {
   "cell_type": "markdown",
   "metadata": {
    "deletable": true,
    "editable": true
   },
   "source": [
    "### Análise e processamento das categorias\n",
    "\n",
    "    Nesta etapa estou verificando quais as categorias que são encontradas no dataset:\n",
    "    - categorias repetidas;\n",
    "    - itens que não correspondem às categorias;"
   ]
  },
  {
   "cell_type": "code",
   "execution_count": 6,
   "metadata": {
    "collapsed": false
   },
   "outputs": [
    {
     "data": {
      "text/plain": [
       "array(['Adventure', 'Animation', 'Children', 'Comedy', 'Fantasy', None,\n",
       "       'Romance', 'Drama', 'Action', 'Crime', 'Thriller', 'Horror',\n",
       "       'Mystery', 'Sci-Fi', 'Documentary', 'IMAX', 'War', 'Musical',\n",
       "       'Western', 'Film-Noir', '(no genres listed)'], dtype=object)"
      ]
     },
     "execution_count": 6,
     "metadata": {},
     "output_type": "execute_result"
    }
   ],
   "source": [
    "# Encontra todas as categorias presentes no dataset\n",
    "dfCategories = dfMoviesRatings.genres.str.split(pat=\"|\", expand=True)\n",
    "dfCategories = Series(dfCategories.values.ravel()).unique()\n",
    "dfCategories"
   ]
  },
  {
   "cell_type": "code",
   "execution_count": 7,
   "metadata": {
    "collapsed": false
   },
   "outputs": [
    {
     "data": {
      "text/html": [
       "<div>\n",
       "<table border=\"1\" class=\"dataframe\">\n",
       "  <thead>\n",
       "    <tr style=\"text-align: right;\">\n",
       "      <th></th>\n",
       "      <th>movieId</th>\n",
       "      <th>genres</th>\n",
       "      <th>rating</th>\n",
       "      <th>Adventure</th>\n",
       "      <th>Animation</th>\n",
       "      <th>Children</th>\n",
       "      <th>Comedy</th>\n",
       "      <th>Fantasy</th>\n",
       "      <th>None</th>\n",
       "      <th>Romance</th>\n",
       "      <th>...</th>\n",
       "      <th>Horror</th>\n",
       "      <th>Mystery</th>\n",
       "      <th>Sci-Fi</th>\n",
       "      <th>Documentary</th>\n",
       "      <th>IMAX</th>\n",
       "      <th>War</th>\n",
       "      <th>Musical</th>\n",
       "      <th>Western</th>\n",
       "      <th>Film-Noir</th>\n",
       "      <th>(no genres listed)</th>\n",
       "    </tr>\n",
       "  </thead>\n",
       "  <tbody>\n",
       "    <tr>\n",
       "      <th>0</th>\n",
       "      <td>1</td>\n",
       "      <td>Adventure|Animation|Children|Comedy|Fantasy</td>\n",
       "      <td>3.0</td>\n",
       "      <td>0</td>\n",
       "      <td>0</td>\n",
       "      <td>0</td>\n",
       "      <td>0</td>\n",
       "      <td>0</td>\n",
       "      <td>0</td>\n",
       "      <td>0</td>\n",
       "      <td>...</td>\n",
       "      <td>0</td>\n",
       "      <td>0</td>\n",
       "      <td>0</td>\n",
       "      <td>0</td>\n",
       "      <td>0</td>\n",
       "      <td>0</td>\n",
       "      <td>0</td>\n",
       "      <td>0</td>\n",
       "      <td>0</td>\n",
       "      <td>0</td>\n",
       "    </tr>\n",
       "    <tr>\n",
       "      <th>1</th>\n",
       "      <td>1</td>\n",
       "      <td>Adventure|Animation|Children|Comedy|Fantasy</td>\n",
       "      <td>4.0</td>\n",
       "      <td>0</td>\n",
       "      <td>0</td>\n",
       "      <td>0</td>\n",
       "      <td>0</td>\n",
       "      <td>0</td>\n",
       "      <td>0</td>\n",
       "      <td>0</td>\n",
       "      <td>...</td>\n",
       "      <td>0</td>\n",
       "      <td>0</td>\n",
       "      <td>0</td>\n",
       "      <td>0</td>\n",
       "      <td>0</td>\n",
       "      <td>0</td>\n",
       "      <td>0</td>\n",
       "      <td>0</td>\n",
       "      <td>0</td>\n",
       "      <td>0</td>\n",
       "    </tr>\n",
       "    <tr>\n",
       "      <th>2</th>\n",
       "      <td>1</td>\n",
       "      <td>Adventure|Animation|Children|Comedy|Fantasy</td>\n",
       "      <td>5.0</td>\n",
       "      <td>0</td>\n",
       "      <td>0</td>\n",
       "      <td>0</td>\n",
       "      <td>0</td>\n",
       "      <td>0</td>\n",
       "      <td>0</td>\n",
       "      <td>0</td>\n",
       "      <td>...</td>\n",
       "      <td>0</td>\n",
       "      <td>0</td>\n",
       "      <td>0</td>\n",
       "      <td>0</td>\n",
       "      <td>0</td>\n",
       "      <td>0</td>\n",
       "      <td>0</td>\n",
       "      <td>0</td>\n",
       "      <td>0</td>\n",
       "      <td>0</td>\n",
       "    </tr>\n",
       "    <tr>\n",
       "      <th>3</th>\n",
       "      <td>1</td>\n",
       "      <td>Adventure|Animation|Children|Comedy|Fantasy</td>\n",
       "      <td>2.0</td>\n",
       "      <td>0</td>\n",
       "      <td>0</td>\n",
       "      <td>0</td>\n",
       "      <td>0</td>\n",
       "      <td>0</td>\n",
       "      <td>0</td>\n",
       "      <td>0</td>\n",
       "      <td>...</td>\n",
       "      <td>0</td>\n",
       "      <td>0</td>\n",
       "      <td>0</td>\n",
       "      <td>0</td>\n",
       "      <td>0</td>\n",
       "      <td>0</td>\n",
       "      <td>0</td>\n",
       "      <td>0</td>\n",
       "      <td>0</td>\n",
       "      <td>0</td>\n",
       "    </tr>\n",
       "    <tr>\n",
       "      <th>4</th>\n",
       "      <td>1</td>\n",
       "      <td>Adventure|Animation|Children|Comedy|Fantasy</td>\n",
       "      <td>3.0</td>\n",
       "      <td>0</td>\n",
       "      <td>0</td>\n",
       "      <td>0</td>\n",
       "      <td>0</td>\n",
       "      <td>0</td>\n",
       "      <td>0</td>\n",
       "      <td>0</td>\n",
       "      <td>...</td>\n",
       "      <td>0</td>\n",
       "      <td>0</td>\n",
       "      <td>0</td>\n",
       "      <td>0</td>\n",
       "      <td>0</td>\n",
       "      <td>0</td>\n",
       "      <td>0</td>\n",
       "      <td>0</td>\n",
       "      <td>0</td>\n",
       "      <td>0</td>\n",
       "    </tr>\n",
       "  </tbody>\n",
       "</table>\n",
       "<p>5 rows × 24 columns</p>\n",
       "</div>"
      ],
      "text/plain": [
       "   movieId                                       genres  rating  Adventure  \\\n",
       "0        1  Adventure|Animation|Children|Comedy|Fantasy     3.0          0   \n",
       "1        1  Adventure|Animation|Children|Comedy|Fantasy     4.0          0   \n",
       "2        1  Adventure|Animation|Children|Comedy|Fantasy     5.0          0   \n",
       "3        1  Adventure|Animation|Children|Comedy|Fantasy     2.0          0   \n",
       "4        1  Adventure|Animation|Children|Comedy|Fantasy     3.0          0   \n",
       "\n",
       "   Animation  Children  Comedy  Fantasy  NaN  Romance         ...          \\\n",
       "0          0         0       0        0    0        0         ...           \n",
       "1          0         0       0        0    0        0         ...           \n",
       "2          0         0       0        0    0        0         ...           \n",
       "3          0         0       0        0    0        0         ...           \n",
       "4          0         0       0        0    0        0         ...           \n",
       "\n",
       "   Horror  Mystery  Sci-Fi  Documentary  IMAX  War  Musical  Western  \\\n",
       "0       0        0       0            0     0    0        0        0   \n",
       "1       0        0       0            0     0    0        0        0   \n",
       "2       0        0       0            0     0    0        0        0   \n",
       "3       0        0       0            0     0    0        0        0   \n",
       "4       0        0       0            0     0    0        0        0   \n",
       "\n",
       "   Film-Noir  (no genres listed)  \n",
       "0          0                   0  \n",
       "1          0                   0  \n",
       "2          0                   0  \n",
       "3          0                   0  \n",
       "4          0                   0  \n",
       "\n",
       "[5 rows x 24 columns]"
      ]
     },
     "execution_count": 7,
     "metadata": {},
     "output_type": "execute_result"
    }
   ],
   "source": [
    "# Insere as colunas de cada categoria  \n",
    "for col in dfCategories:\n",
    "    dfMoviesRatings.insert(loc= len(dfMoviesRatings.columns), column=col, value=0)\n",
    "dfMoviesRatings.head()"
   ]
  },
  {
   "cell_type": "code",
   "execution_count": 53,
   "metadata": {
    "collapsed": false,
    "deletable": true,
    "editable": true,
    "scrolled": false
   },
   "outputs": [
    {
     "data": {
      "text/html": [
       "<div>\n",
       "<table border=\"1\" class=\"dataframe\">\n",
       "  <thead>\n",
       "    <tr style=\"text-align: right;\">\n",
       "      <th></th>\n",
       "      <th>movieId</th>\n",
       "      <th>genres</th>\n",
       "      <th>rating</th>\n",
       "      <th>Adventure</th>\n",
       "      <th>Animation</th>\n",
       "      <th>Children</th>\n",
       "      <th>Comedy</th>\n",
       "      <th>Fantasy</th>\n",
       "      <th>None</th>\n",
       "      <th>Romance</th>\n",
       "      <th>...</th>\n",
       "      <th>Horror</th>\n",
       "      <th>Mystery</th>\n",
       "      <th>Sci-Fi</th>\n",
       "      <th>Documentary</th>\n",
       "      <th>IMAX</th>\n",
       "      <th>War</th>\n",
       "      <th>Musical</th>\n",
       "      <th>Western</th>\n",
       "      <th>Film-Noir</th>\n",
       "      <th>(no genres listed)</th>\n",
       "    </tr>\n",
       "  </thead>\n",
       "  <tbody>\n",
       "    <tr>\n",
       "      <th>0</th>\n",
       "      <td>1</td>\n",
       "      <td>Adventure|Animation|Children|Comedy|Fantasy</td>\n",
       "      <td>3.0</td>\n",
       "      <td>1</td>\n",
       "      <td>1</td>\n",
       "      <td>1</td>\n",
       "      <td>1</td>\n",
       "      <td>1</td>\n",
       "      <td>0</td>\n",
       "      <td>0</td>\n",
       "      <td>...</td>\n",
       "      <td>0</td>\n",
       "      <td>0</td>\n",
       "      <td>0</td>\n",
       "      <td>0</td>\n",
       "      <td>0</td>\n",
       "      <td>0</td>\n",
       "      <td>0</td>\n",
       "      <td>0</td>\n",
       "      <td>0</td>\n",
       "      <td>0</td>\n",
       "    </tr>\n",
       "    <tr>\n",
       "      <th>1</th>\n",
       "      <td>1</td>\n",
       "      <td>Adventure|Animation|Children|Comedy|Fantasy</td>\n",
       "      <td>4.0</td>\n",
       "      <td>1</td>\n",
       "      <td>1</td>\n",
       "      <td>1</td>\n",
       "      <td>1</td>\n",
       "      <td>1</td>\n",
       "      <td>0</td>\n",
       "      <td>0</td>\n",
       "      <td>...</td>\n",
       "      <td>0</td>\n",
       "      <td>0</td>\n",
       "      <td>0</td>\n",
       "      <td>0</td>\n",
       "      <td>0</td>\n",
       "      <td>0</td>\n",
       "      <td>0</td>\n",
       "      <td>0</td>\n",
       "      <td>0</td>\n",
       "      <td>0</td>\n",
       "    </tr>\n",
       "    <tr>\n",
       "      <th>2</th>\n",
       "      <td>1</td>\n",
       "      <td>Adventure|Animation|Children|Comedy|Fantasy</td>\n",
       "      <td>5.0</td>\n",
       "      <td>1</td>\n",
       "      <td>1</td>\n",
       "      <td>1</td>\n",
       "      <td>1</td>\n",
       "      <td>1</td>\n",
       "      <td>0</td>\n",
       "      <td>0</td>\n",
       "      <td>...</td>\n",
       "      <td>0</td>\n",
       "      <td>0</td>\n",
       "      <td>0</td>\n",
       "      <td>0</td>\n",
       "      <td>0</td>\n",
       "      <td>0</td>\n",
       "      <td>0</td>\n",
       "      <td>0</td>\n",
       "      <td>0</td>\n",
       "      <td>0</td>\n",
       "    </tr>\n",
       "    <tr>\n",
       "      <th>3</th>\n",
       "      <td>1</td>\n",
       "      <td>Adventure|Animation|Children|Comedy|Fantasy</td>\n",
       "      <td>2.0</td>\n",
       "      <td>1</td>\n",
       "      <td>1</td>\n",
       "      <td>1</td>\n",
       "      <td>1</td>\n",
       "      <td>1</td>\n",
       "      <td>0</td>\n",
       "      <td>0</td>\n",
       "      <td>...</td>\n",
       "      <td>0</td>\n",
       "      <td>0</td>\n",
       "      <td>0</td>\n",
       "      <td>0</td>\n",
       "      <td>0</td>\n",
       "      <td>0</td>\n",
       "      <td>0</td>\n",
       "      <td>0</td>\n",
       "      <td>0</td>\n",
       "      <td>0</td>\n",
       "    </tr>\n",
       "    <tr>\n",
       "      <th>4</th>\n",
       "      <td>1</td>\n",
       "      <td>Adventure|Animation|Children|Comedy|Fantasy</td>\n",
       "      <td>3.0</td>\n",
       "      <td>1</td>\n",
       "      <td>1</td>\n",
       "      <td>1</td>\n",
       "      <td>1</td>\n",
       "      <td>1</td>\n",
       "      <td>0</td>\n",
       "      <td>0</td>\n",
       "      <td>...</td>\n",
       "      <td>0</td>\n",
       "      <td>0</td>\n",
       "      <td>0</td>\n",
       "      <td>0</td>\n",
       "      <td>0</td>\n",
       "      <td>0</td>\n",
       "      <td>0</td>\n",
       "      <td>0</td>\n",
       "      <td>0</td>\n",
       "      <td>0</td>\n",
       "    </tr>\n",
       "  </tbody>\n",
       "</table>\n",
       "<p>5 rows × 24 columns</p>\n",
       "</div>"
      ],
      "text/plain": [
       "   movieId                                       genres  rating  Adventure  \\\n",
       "0        1  Adventure|Animation|Children|Comedy|Fantasy     3.0          1   \n",
       "1        1  Adventure|Animation|Children|Comedy|Fantasy     4.0          1   \n",
       "2        1  Adventure|Animation|Children|Comedy|Fantasy     5.0          1   \n",
       "3        1  Adventure|Animation|Children|Comedy|Fantasy     2.0          1   \n",
       "4        1  Adventure|Animation|Children|Comedy|Fantasy     3.0          1   \n",
       "\n",
       "   Animation  Children  Comedy  Fantasy  NaN  Romance         ...          \\\n",
       "0          1         1       1        1    0        0         ...           \n",
       "1          1         1       1        1    0        0         ...           \n",
       "2          1         1       1        1    0        0         ...           \n",
       "3          1         1       1        1    0        0         ...           \n",
       "4          1         1       1        1    0        0         ...           \n",
       "\n",
       "   Horror  Mystery  Sci-Fi  Documentary  IMAX  War  Musical  Western  \\\n",
       "0       0        0       0            0     0    0        0        0   \n",
       "1       0        0       0            0     0    0        0        0   \n",
       "2       0        0       0            0     0    0        0        0   \n",
       "3       0        0       0            0     0    0        0        0   \n",
       "4       0        0       0            0     0    0        0        0   \n",
       "\n",
       "   Film-Noir  (no genres listed)  \n",
       "0          0                   0  \n",
       "1          0                   0  \n",
       "2          0                   0  \n",
       "3          0                   0  \n",
       "4          0                   0  \n",
       "\n",
       "[5 rows x 24 columns]"
      ]
     },
     "execution_count": 53,
     "metadata": {},
     "output_type": "execute_result"
    }
   ],
   "source": [
    "# Transforma cada categoria em uma feature\n",
    "count = 0\n",
    "for i, row in dfMoviesRatings.iterrows():\n",
    "    dfMoviesRatings.set_value(col=row[1].split(sep=\"|\"), index=i, value=1)\n",
    "\n",
    "dfMoviesRatings.head()"
   ]
  },
  {
   "cell_type": "code",
   "execution_count": 56,
   "metadata": {
    "collapsed": false
   },
   "outputs": [],
   "source": [
    "# Remove as categorias: None, '(no genres listed)'\n",
    "dfMoviesRatings = dfMoviesRatings.drop([None, '(no genres listed)','genres'], 1)"
   ]
  },
  {
   "cell_type": "markdown",
   "metadata": {},
   "source": [
    "#### Quais são as categorias que possuem relação entre si?\n",
    "\n",
    "    Para verificar a relação entre as categorias é calculado a matriz de correlação, como apresentado na linha 4 da célula a seguir.\n",
    "    \n",
    "TODO: Detalhar as obsevações sobre as categorias"
   ]
  },
  {
   "cell_type": "code",
   "execution_count": 101,
   "metadata": {
    "collapsed": false,
    "scrolled": false
   },
   "outputs": [
    {
     "data": {
      "text/plain": [
       "<matplotlib.axes._subplots.AxesSubplot at 0x7f1db253ff98>"
      ]
     },
     "execution_count": 101,
     "metadata": {},
     "output_type": "execute_result"
    },
    {
     "data": {
      "image/png": "[encoded data removed]",
      "text/plain": [
       "<matplotlib.figure.Figure at 0x7f1db2b06e10>"
      ]
     },
     "metadata": {},
     "output_type": "display_data"
    }
   ],
   "source": [
    "sns.set(style=\"white\")\n",
    "\n",
    "# Calcula a matriz de correlação das categorias\n",
    "corr = dfMoviesRatings.drop(['movieId', 'rating'],1).corr()\n",
    "\n",
    "# Gera uma máscara para a parte superior do triângulo\n",
    "mask = np.zeros_like(corr, dtype=np.bool)\n",
    "mask[np.triu_indices_from(mask)] = True\n",
    "\n",
    "# Define a area de render do gráfico\n",
    "f, ax = plt.subplots(figsize=(11, 9))\n",
    "\n",
    "# Gera o colormap\n",
    "cmap = sns.diverging_palette(220, 10, as_cmap=True)\n",
    "\n",
    "# Deseja o mapa de calor com a correlação entre as categorias\n",
    "sns.heatmap(corr, mask=mask, cmap=cmap, vmax=.3, center=0,\n",
    "            square=True, linewidths=.5, cbar_kws={\"shrink\": .5})"
   ]
  },
  {
   "cell_type": "markdown",
   "metadata": {
    "collapsed": false,
    "deletable": true,
    "editable": true
   },
   "source": [
    "### Tags\n",
    "\n",
    "    - Avaliar os tags mais comuns;\n",
    "    - Existe relação das tags com as avaliações? Palavras positivas e negativas?"
   ]
  },
  {
   "cell_type": "markdown",
   "metadata": {
    "collapsed": true,
    "deletable": true,
    "editable": true
   },
   "source": [
    "### Análise e processamento dos nomes dos filmes\n",
    "\n",
    "    - Avaliar se existem nomes de um mesmo filme com escritas diferentes;\n",
    "    - "
   ]
  },
  {
   "cell_type": "markdown",
   "metadata": {
    "deletable": true,
    "editable": true
   },
   "source": [
    "### Análise e processamentos dos ratings\n",
    "\n",
    "    - Normalizar os valores;\n",
    "    - Verificar a existência de outliers;\n",
    "    - Verificar se a distribuição dos ratings é uniforme entre os filmes;"
   ]
  },
  {
   "cell_type": "code",
   "execution_count": 93,
   "metadata": {
    "collapsed": false,
    "deletable": true,
    "editable": true,
    "scrolled": false
   },
   "outputs": [
    {
     "name": "stdout",
     "output_type": "stream",
     "text": [
      "Algumas estatísticas:\n"
     ]
    },
    {
     "data": {
      "text/plain": [
       "count    9066.000000\n",
       "mean       11.030664\n",
       "std        24.050800\n",
       "min         1.000000\n",
       "25%         1.000000\n",
       "50%         3.000000\n",
       "75%         9.000000\n",
       "max       341.000000\n",
       "dtype: float64"
      ]
     },
     "execution_count": 93,
     "metadata": {},
     "output_type": "execute_result"
    },
    {
     "data": {
      "image/png": "[encoded data removed]",
      "text/plain": [
       "<matplotlib.figure.Figure at 0x7f1db20fbcf8>"
      ]
     },
     "metadata": {},
     "output_type": "display_data"
    }
   ],
   "source": [
    "# Verifica o número de avaliações por filme\n",
    "number_of_ratings_per_movie = pd.value_counts(dfMoviesRatings['movieId'].values, sort=False)\n",
    "\n",
    "# Apresenta o gráfico com a distribuição o número de avaliações por filme\n",
    "sns.distplot(pd.Series(number_of_ratings_per_movie, name=\"\"))\n",
    "\n",
    "# Algumas estatísticas\n",
    "print('Algumas estatísticas:')\n",
    "number_of_ratings_per_movie.describe()"
   ]
  },
  {
   "cell_type": "markdown",
   "metadata": {
    "deletable": true,
    "editable": true
   },
   "source": [
    "## Conclusões\n",
    "\n",
    "- Existe alguma relação entre a categoria do filme e a forma que ele é avaliado?\n"
   ]
  },
  {
   "cell_type": "markdown",
   "metadata": {
    "deletable": true,
    "editable": true
   },
   "source": [
    "# Sistema de Recomendação\n",
    "\n",
    "Idéias:\n",
    "- Redução de dimensionalidade: utilizar auto-encoder ou PCA para reduzir número de features\n",
    "- Clusterização para recomendações"
   ]
  },
  {
   "cell_type": "code",
   "execution_count": null,
   "metadata": {
    "collapsed": true,
    "deletable": true,
    "editable": true
   },
   "outputs": [],
   "source": []
  }
 ],
 "metadata": {
  "kernelspec": {
   "display_name": "Python 3",
   "language": "python",
   "name": "python3"
  }
 },
 "nbformat": 4,
 "nbformat_minor": 2
}
